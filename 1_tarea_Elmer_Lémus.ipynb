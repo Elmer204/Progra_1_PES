{
 "cells": [
  {
   "cell_type": "markdown",
   "metadata": {},
   "source": [
    "# Tarea de clase # 1\n",
    "**Programación I**\n",
    "\n",
    "# $$ Elmer Humberto Lémus Flores $$"
   ]
  },
  {
   "cell_type": "markdown",
   "metadata": {},
   "source": [
    "## Ejercicio 1\n",
    "\n",
    "* Asigne valores para ``A`` y ``B``. \n",
    "* Para cada operador (``+``,``-``,``*``,``/``,``//``,``%``,``**``) haga un ejemplo con los valores asignados previamente. \n",
    "* Utilizando el comando ``print()`` Muestre los valores a operar, la operación y el resultado.  \n"
   ]
  },
  {
   "cell_type": "markdown",
   "metadata": {},
   "source": [
    "***Asigne valores para A y B***"
   ]
  },
  {
   "cell_type": "code",
   "execution_count": 185,
   "metadata": {},
   "outputs": [
    {
     "name": "stdout",
     "output_type": "stream",
     "text": [
      "Para este caso consideramos los siguientes valores:\n",
      "a = 10\n",
      "b = 3\n"
     ]
    }
   ],
   "source": [
    "a = 10\n",
    "b = 3\n",
    "\n",
    "print(\"Para este caso consideramos los siguientes valores:\")\n",
    "print(\"a =\",a)\n",
    "print(\"b =\",b)"
   ]
  },
  {
   "cell_type": "markdown",
   "metadata": {},
   "source": [
    "***Para cada operador*** (``+``,``-``,``*``,``/``,``//``,``%``,``**``) ***haga un ejemplo con los valores asignados previamente.***"
   ]
  },
  {
   "cell_type": "code",
   "execution_count": 186,
   "metadata": {
    "scrolled": true
   },
   "outputs": [
    {
     "name": "stdout",
     "output_type": "stream",
     "text": [
      "Los resultados de las operaciones solicitadas son:\n",
      "13\n",
      "7\n",
      "30\n",
      "3.3333333333333335\n",
      "3\n",
      "1\n",
      "1000\n"
     ]
    }
   ],
   "source": [
    "a = 10\n",
    "b = 3\n",
    "\n",
    "print(\"Los resultados de las operaciones solicitadas son:\")\n",
    "print(a+b) \n",
    "print(a-b)\n",
    "print(a*b)\n",
    "print(a/b)\n",
    "print(a//b)\n",
    "print(a%b)\n",
    "print(a**b)\n"
   ]
  },
  {
   "cell_type": "markdown",
   "metadata": {},
   "source": [
    "***Utilizando el comando ``print()`` Muestre los valores a operar, la operación y el resultado.***"
   ]
  },
  {
   "cell_type": "code",
   "execution_count": 187,
   "metadata": {
    "scrolled": true
   },
   "outputs": [
    {
     "name": "stdout",
     "output_type": "stream",
     "text": [
      "Dejando de forma explícita las operaciones, tenemos:\n",
      "a + b = 13\n",
      "a - b = 7\n",
      "a * b = 30\n",
      "a / b = 3.3333333333333335\n",
      "a / b, su entero es = 3\n",
      "a / b, su módulo es = 1\n",
      "a^b = 1000\n"
     ]
    }
   ],
   "source": [
    "a = 10\n",
    "b = 3\n",
    "\n",
    "print(\"Dejando de forma explícita las operaciones, tenemos:\")\n",
    "print(\"a + b =\",a+b) \n",
    "print(\"a - b =\",a-b)\n",
    "print(\"a * b =\",a*b)\n",
    "print(\"a / b =\",a/b)\n",
    "print(\"a / b, su entero es =\",a//b)\n",
    "print(\"a / b, su módulo es =\",a%b)\n",
    "print(\"a^b =\",a**b)"
   ]
  },
  {
   "cell_type": "markdown",
   "metadata": {},
   "source": [
    "***Cómo utilizar el operador de residuo (%) para determinar si un número es múltiplo de otro***"
   ]
  },
  {
   "cell_type": "code",
   "execution_count": 188,
   "metadata": {},
   "outputs": [
    {
     "name": "stdout",
     "output_type": "stream",
     "text": [
      "Son el número 10 y el 3 múltiplos?\n",
      "False\n"
     ]
    }
   ],
   "source": [
    "a = 10\n",
    "b = 3\n",
    "c = a%b\n",
    "\n",
    "print('Son el número {0} y el {1} múltiplos?'.format(a, b))\n",
    "print(c==0)"
   ]
  },
  {
   "cell_type": "markdown",
   "metadata": {},
   "source": [
    "## Ejercicio 2\n",
    "\n",
    "* Asigne ``A='Aa'`` y ``B='aa'``\n",
    "* Verifique las siguientes expresiones:\n",
    "    - ``A<A``\n",
    "    - ``A<B``\n",
    "* Explique el resultado de las expresiones anteriores. ¿Por qué no son iguales?"
   ]
  },
  {
   "cell_type": "markdown",
   "metadata": {},
   "source": [
    "***Asigne ``A='Aa'`` y ``B='aa'``***"
   ]
  },
  {
   "cell_type": "code",
   "execution_count": 62,
   "metadata": {
    "scrolled": false
   },
   "outputs": [
    {
     "name": "stdout",
     "output_type": "stream",
     "text": [
      "A = Aa\n",
      "B = aa\n"
     ]
    }
   ],
   "source": [
    "A = 'Aa'\n",
    "B = 'aa'\n",
    "\n",
    "print(\"A =\",A)\n",
    "print(\"B =\",B)"
   ]
  },
  {
   "cell_type": "markdown",
   "metadata": {},
   "source": [
    "***Verifique las siguientes expresiones:***  \n",
    "$$A<A$$  \n",
    "$$A<B$$"
   ]
  },
  {
   "cell_type": "code",
   "execution_count": 21,
   "metadata": {
    "scrolled": false
   },
   "outputs": [
    {
     "name": "stdout",
     "output_type": "stream",
     "text": [
      "A < A =  False\n",
      "A < B =  True\n"
     ]
    }
   ],
   "source": [
    "A = 'Aa'\n",
    "B = 'aa'\n",
    "\n",
    "print(\"A < A = \",A<A)\n",
    "print(\"A < B = \",A<B)"
   ]
  },
  {
   "cell_type": "markdown",
   "metadata": {},
   "source": [
    "***Explique el resultado de las expresiones anteriores. ¿Por qué no son iguales?***"
   ]
  },
  {
   "cell_type": "markdown",
   "metadata": {},
   "source": [
    "Esto se debe a que el programa utiliza código ASCII asigna diferentes valores a las letras mayúsculas y minúsculas, ver [ASCII](https://ascii.cl/es/)  \n",
    "El valor de A para este caso es 65 y para a es 97, por tanto (operando la multiplicación)"
   ]
  },
  {
   "cell_type": "code",
   "execution_count": 104,
   "metadata": {},
   "outputs": [
    {
     "name": "stdout",
     "output_type": "stream",
     "text": [
      "Para el primer caso A * a es 65 * 97 =  6305 y ningún número puede ser mejor que él mismo\n",
      "Para el segundo caso a * a es 97 * 97 =  9409 lo cual si es correcto, pues 6305 es menor que 9409\n"
     ]
    }
   ],
   "source": [
    "Primero = ord('A')*ord('a')\n",
    "Segundo = ord('a')*ord('a')\n",
    "\n",
    "print(\"Para el primer caso A * a es\",\"65 * 97 = \",Primero,\"y ningún número puede ser mejor que él mismo\")\n",
    "print(\"Para el segundo caso a * a es\",\"97 * 97 = \",Segundo,\"lo cual si es correcto, pues\", Primero,\"es menor que\",Segundo)"
   ]
  },
  {
   "cell_type": "markdown",
   "metadata": {},
   "source": [
    "## Ejercicio 3\n",
    "\n",
    "1.\tEscriba un programa que calcule la hipotenusa e imprima el resultado dado dos catetos. \n",
    "2.\tReescriba el ejemplo anterior para que los puntos sean bidimensionales. \n",
    "3.\tEscriba un programa que, dados tres puntos bidimensionales, imprima si son colineales o no. (No emplee la estructura ``if else``, solamente operadores)."
   ]
  },
  {
   "cell_type": "markdown",
   "metadata": {},
   "source": [
    "***Escriba un programa que calcule la hipotenusa e imprima el resultado dado dos catetos.***"
   ]
  },
  {
   "cell_type": "code",
   "execution_count": 135,
   "metadata": {
    "scrolled": true
   },
   "outputs": [
    {
     "name": "stdout",
     "output_type": "stream",
     "text": [
      "Cateto A = 30\n",
      "Cateto B = 8\n",
      "La hipotenusa de los catetos 30 y 8 es 31.04834939252005\n"
     ]
    }
   ],
   "source": [
    "cateto_A = 30\n",
    "cateto_B = 8\n",
    "\n",
    "print(\"Cateto A =\",cateto_A)\n",
    "print(\"Cateto B =\",cateto_B)\n",
    "\n",
    "Hipo = (cateto_A**2+cateto_B**2)**(1/2)\n",
    "print('La hipotenusa de los catetos {0} y {1}'.format(cateto_A,cateto_B),'es',Hipo)"
   ]
  },
  {
   "cell_type": "markdown",
   "metadata": {},
   "source": [
    "***Reescriba el ejemplo anterior para que los puntos sean bidimensionales.***"
   ]
  },
  {
   "cell_type": "code",
   "execution_count": 146,
   "metadata": {},
   "outputs": [
    {
     "name": "stdout",
     "output_type": "stream",
     "text": [
      "Punto A = ( 2 , 1 )\n",
      "Punto B = ( 4 , 9 )\n",
      "La hipotenusa de los puntos anteriores es 8.246211251235321\n"
     ]
    }
   ],
   "source": [
    "X_1 = 2\n",
    "Y_1 = 1\n",
    "X_2 = 4\n",
    "Y_2 = 9\n",
    "\n",
    "cateto_A = X_1-X_2\n",
    "cateto_B = Y_1-Y_2\n",
    "\n",
    "print(\"Punto A =\",'(',X_1,',',Y_1,')')\n",
    "print(\"Punto B =\",'(',X_2,',',Y_2,')')\n",
    "\n",
    "Hipo = (cateto_A**2+cateto_B**2)**(1/2)\n",
    "print('La hipotenusa de los puntos anteriores es',Hipo)"
   ]
  },
  {
   "cell_type": "markdown",
   "metadata": {},
   "source": [
    "***Escriba un programa que, dados tres puntos bidimensionales, imprima si son colineales o no.***"
   ]
  },
  {
   "cell_type": "code",
   "execution_count": 183,
   "metadata": {},
   "outputs": [
    {
     "name": "stdout",
     "output_type": "stream",
     "text": [
      "Para los siguientes puntos bidimencionales:\n",
      "Punto 1 = (2, 1)\n",
      "Punto 2 = (4, 9)\n",
      "Punto 3 = (2, 5)\n",
      "Sabemos que el producto punto de dos vectores es:\n",
      "36\n",
      "y sus normas son:\n",
      "8.246211251235321\n",
      "4.47213595499958\n",
      "Por tanto, existe colinealidd si normalizandolos el resultado es +/- uno, para este caso:\n",
      "0.9761870601839528\n"
     ]
    }
   ],
   "source": [
    "a = (2,1)\n",
    "b = (4,9)\n",
    "c = (2,5)\n",
    "\n",
    "d = (b[0]-a[0],b[1]-a[1])\n",
    "e = (b[0]-c[0],b[1]-c[1])\n",
    "\n",
    "print(\"Para los siguientes puntos bidimencionales:\")\n",
    "\n",
    "print(\"Punto 1 =\",a)\n",
    "print(\"Punto 2 =\",b)\n",
    "print(\"Punto 3 =\",c)\n",
    "\n",
    "print(\"Sabemos que el producto punto de dos vectores es:\")\n",
    "\n",
    "pp = (d[0]*e[0]+d[1]*e[1])\n",
    "\n",
    "print(pp)\n",
    "\n",
    "print(\"y sus normas son:\")\n",
    "\n",
    "nor_1 = (d[0]**2+d[1]**2)**0.5\n",
    "nor_2 = (e[0]**2+e[1]**2)**0.5\n",
    "\n",
    "print(nor_1)\n",
    "print(nor_2)\n",
    "\n",
    "print(\"Por tanto, existe colinealidd si normalizandolos el resultado es +/- uno, para este caso:\")\n",
    "\n",
    "co = pp / (nor_1*nor_2)\n",
    "\n",
    "print(co)"
   ]
  },
  {
   "cell_type": "markdown",
   "metadata": {},
   "source": [
    "## Ejercicio 4\n",
    "\n",
    "Traduzca las siguientes expresiones lógicas y verifique su resultado, siendo ``A=0`` y ``B=1``. \n",
    "\n",
    "1. $A \\implies B$\n",
    "2. $A \\iff B$"
   ]
  },
  {
   "cell_type": "markdown",
   "metadata": {},
   "source": [
    "Sabemos que A = 0 y B = 1  \n",
    "Los equivalentes lógicos de los numerales anteriores son:  \n",
    "$$A \\implies B$$ es $$\\neg A \\vee B$$  \n",
    "$$A \\Leftrightarrow B$$ es $$(A \\implies B) \\wedge (B \\implies A)$$  \n",
    "Ahora la negación, Y y O es:  \n",
    "* no A = 1 - A  \n",
    "* A y B = A * B  \n",
    "* A o B = A + B - A * B"
   ]
  },
  {
   "cell_type": "code",
   "execution_count": 198,
   "metadata": {},
   "outputs": [
    {
     "name": "stdout",
     "output_type": "stream",
     "text": [
      "La evaluación de los resultados es:\n",
      "1. 𝐴⟹𝐵\n",
      "El Resultado es: 1\n",
      "2. 𝐴⇔𝐵\n",
      "El Resultado es: 0\n"
     ]
    }
   ],
   "source": [
    "A = 0\n",
    "B = 1\n",
    "\n",
    "print(\"La evaluación de los resultados es:\")\n",
    "print(\"1. 𝐴⟹𝐵\")\n",
    "\n",
    "print(\"El Resultado es:\",(1-A)+B-(1-A)*B)\n",
    "\n",
    "print(\"2. 𝐴⇔𝐵\")\n",
    "\n",
    "print(\"El Resultado es:\",((1-A)+B-(1-A)*B)*((1-B)+A-(1-B)*A))"
   ]
  }
 ],
 "metadata": {
  "kernelspec": {
   "display_name": "Python 3",
   "language": "python",
   "name": "python3"
  },
  "language_info": {
   "codemirror_mode": {
    "name": "ipython",
    "version": 3
   },
   "file_extension": ".py",
   "mimetype": "text/x-python",
   "name": "python",
   "nbconvert_exporter": "python",
   "pygments_lexer": "ipython3",
   "version": "3.7.4"
  }
 },
 "nbformat": 4,
 "nbformat_minor": 2
}
