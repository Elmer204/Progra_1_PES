{
 "cells": [
  {
   "cell_type": "markdown",
   "metadata": {},
   "source": [
    "# Tarea de clase # 3\n",
    "**Programación I**\n",
    "\n",
    "### Elmer Lémus"
   ]
  },
  {
   "cell_type": "markdown",
   "metadata": {},
   "source": [
    "## Ejercicio 1\n",
    "Escriba una función que ordene los símbolos de una cadena de menor a mayor. Debe utilizar las funciones anteriormente programadas.\n",
    "#### Ejercicio 1.0\n",
    "Escriba una función que, dada una cadena, encuentre el menor símbolo dentro de ella. La función debe devolver dicho símbolo.\n",
    "#### Ejercicio 1.1\n",
    "Escriba una función que, dado un símbolo y una cadena, determine el índice de la primera coincidencia entre dicho símbolo y los símbolos dentro de la cadena. La función debe devolver un entero.  \n",
    "#### Ejercicio 1.2\n",
    "Escriba una función que, dado un símbolo y una cadena, devuelva la cadena sin el primer símbolo que coincidió con el dado. La función debe devolver una cadena y debe utilizar la función del ejercicio 1.1 para escribir esta nueva función. (slicing)"
   ]
  },
  {
   "cell_type": "markdown",
   "metadata": {},
   "source": [
    "## Respuesta ejercicio 1"
   ]
  },
  {
   "cell_type": "code",
   "execution_count": 5,
   "metadata": {},
   "outputs": [
    {
     "name": "stdout",
     "output_type": "stream",
     "text": [
      "Text: hugo\n",
      "ghou"
     ]
    }
   ],
   "source": [
    "# Escriba una función que ordene los símbolos de una cadena de menor a mayor.\n",
    "# Debe utilizar las funciones anteriormente programadas.\n",
    "\n",
    "# RESPUESTA 1\n",
    "# OJO. Esta versión lo realiza, pero se complicó regresar las letras a una cadena\n",
    "\n",
    "# Ingresamos la palabra\n",
    "x = str(input(\"Text: \"))\n",
    "\n",
    "# Variables auxiliares\n",
    "i = 0\n",
    "xx = x\n",
    "res = []\n",
    "\n",
    "# Proceso\n",
    "while i<len(x):\n",
    "    \n",
    "    # Contador\n",
    "    i += 1\n",
    "    \n",
    "    # Variable minima de la cadena existente, FUNCIÓN MINIMO CREADA\n",
    "    minimo(xx)\n",
    "    print(minimo(xx), end=\"\")\n",
    "    \n",
    "    # Encontramos el índice del minimo anterior, FUNCIÓN ENCONTRAR CREADA    \n",
    "    encontrar(xx,minimo(xx))\n",
    "    \n",
    "    # Elimina el registro y actualiza la cadena, FUNCIÓN SUPRIMIR CREADA\n",
    "    xx = suprimir(xx,minimo(xx))"
   ]
  },
  {
   "cell_type": "code",
   "execution_count": 282,
   "metadata": {},
   "outputs": [],
   "source": [
    "# RESPUESTA 2\n",
    "# Forma breve\n",
    "# Se realizó con comandos\n",
    "\n",
    "def comando(x):\n",
    "    \n",
    "    # Pasamos la palabra a lista\n",
    "    breve = list(x)\n",
    "    # Usamos la función sort\n",
    "    breve.sort()\n",
    "    # Concatenamos\n",
    "    breve = \"\".join(breve)\n",
    "    return print(breve)"
   ]
  },
  {
   "cell_type": "code",
   "execution_count": 283,
   "metadata": {
    "scrolled": true
   },
   "outputs": [
    {
     "name": "stdout",
     "output_type": "stream",
     "text": [
      "Text: humberto\n",
      "behmortu\n"
     ]
    }
   ],
   "source": [
    "# Ingresamos la palabra\n",
    "\n",
    "x = str(input(\"Text: \"))\n",
    "\n",
    "# Ejecutamos la función anterior\n",
    "comando(x)"
   ]
  },
  {
   "cell_type": "markdown",
   "metadata": {},
   "source": [
    "## Respuesta ejercicio 1.0"
   ]
  },
  {
   "cell_type": "code",
   "execution_count": 1,
   "metadata": {},
   "outputs": [],
   "source": [
    "# Ejercicio 1.0\n",
    "# Escriba una función que, dada una cadena, encuentre el menor símbolo dentro de ella. \n",
    "# La función debe devolver dicho símbolo.\n",
    "\n",
    "def minimo(x):\n",
    "    \"\"\"\"\n",
    "    Encuentra el valor más pequeño de los simbolos de la cadena.\n",
    "    \"\"\"\n",
    "    # La cadena la pasamos a lista.\n",
    "    lista = list(x)\n",
    "    \n",
    "    # Resultado.\n",
    "    return min(lista)"
   ]
  },
  {
   "cell_type": "code",
   "execution_count": 253,
   "metadata": {
    "scrolled": true
   },
   "outputs": [
    {
     "name": "stdout",
     "output_type": "stream",
     "text": [
      "Ingrese una palabra u oración:humberto\n"
     ]
    },
    {
     "data": {
      "text/plain": [
       "'b'"
      ]
     },
     "execution_count": 253,
     "metadata": {},
     "output_type": "execute_result"
    }
   ],
   "source": [
    "# Ingresamos la cadena.\n",
    "\n",
    "x = str(input(\"Ingrese una palabra u oración:\"))\n",
    "\n",
    "# Ejecutamos la función anterior.\n",
    "minimo(x)"
   ]
  },
  {
   "cell_type": "markdown",
   "metadata": {},
   "source": [
    "## Respuesta ejercicio 1.1"
   ]
  },
  {
   "cell_type": "code",
   "execution_count": 2,
   "metadata": {},
   "outputs": [],
   "source": [
    "# Ejercicio 1.1\n",
    "# Escriba una función que, dado un símbolo y una cadena, \n",
    "# determine el índice de la primera coincidencia entre dicho símbolo y \n",
    "# los símbolos dentro de la cadena. La función debe devolver un entero.\n",
    "\n",
    "def encontrar(x,y):\n",
    "    \"\"\"\"\n",
    "    Determina el índice de la primera coincidencia entre un símbolo y \n",
    "    los símbolos dentro de la cadena. La función debe devolver un entero.\n",
    "    \"\"\"\n",
    "    \n",
    "    # Comprobamos que el valor a eliminar se encuentre en la cadena.\n",
    "    # Si existe, entonces extraemos el índice.\n",
    "    if y in x:\n",
    "        indi = x.find(y)\n",
    "        int(indi)\n",
    "        return indi\n",
    "    \n",
    "    # Si NO existe, entonces lo indica.\n",
    "    else:\n",
    "        return print(\"No está en la cadena\")"
   ]
  },
  {
   "cell_type": "code",
   "execution_count": 256,
   "metadata": {
    "scrolled": true
   },
   "outputs": [
    {
     "name": "stdout",
     "output_type": "stream",
     "text": [
      "Ingrese algo:humberto\n",
      "Ingrese el caracter deseado:b\n"
     ]
    },
    {
     "data": {
      "text/plain": [
       "3"
      ]
     },
     "execution_count": 256,
     "metadata": {},
     "output_type": "execute_result"
    }
   ],
   "source": [
    "# Ingresamos la cadena.\n",
    "# Ingresamos el valor que deseamos encontrar su índice.\n",
    "\n",
    "x = str(input(\"Ingrese algo:\"))\n",
    "y = str(input(\"Ingrese el caracter deseado:\"))\n",
    "\n",
    "# Ejecutamos la función anterior.\n",
    "encontrar(x,y)"
   ]
  },
  {
   "cell_type": "markdown",
   "metadata": {},
   "source": [
    "## Respuesta ejercicio 1.2"
   ]
  },
  {
   "cell_type": "code",
   "execution_count": 3,
   "metadata": {},
   "outputs": [],
   "source": [
    "# Ejercicio 1.2\n",
    "# Escriba una función que, dado un símbolo y una cadena, \n",
    "# devuelva la cadena sin el primer símbolo que coincidió con el dado. \n",
    "\n",
    "def suprimir(x,y):\n",
    "    \"\"\"\"\n",
    "    devuelva la cadena sin el primer símbolo que coincidió con el dado. \n",
    "    \"\"\"\n",
    "    \n",
    "    # Pasamos la cadena a lista.\n",
    "    xc = list(x)\n",
    "    \n",
    "    # Creamos una lista sin nada.\n",
    "    xcl = \"\"\n",
    "    \n",
    "    # Eliminamos la letra que deseamos.\n",
    "    del xc[encontrar(x,y)]\n",
    "    \n",
    "    # Concatenamos.\n",
    "    xcl = \"\".join(xc)    \n",
    "    return xcl\n",
    "    "
   ]
  },
  {
   "cell_type": "code",
   "execution_count": 260,
   "metadata": {
    "scrolled": true
   },
   "outputs": [
    {
     "name": "stdout",
     "output_type": "stream",
     "text": [
      "Ingrese algo:humberto\n",
      "Ingrese el caracter deseado:b\n"
     ]
    },
    {
     "data": {
      "text/plain": [
       "'humerto'"
      ]
     },
     "execution_count": 260,
     "metadata": {},
     "output_type": "execute_result"
    }
   ],
   "source": [
    "# Ingresamos la cadena.\n",
    "# Ingresamos la letra que deseamos eliminar.\n",
    "\n",
    "x = str(input(\"Ingrese algo:\"))\n",
    "y = str(input(\"Ingrese el caracter deseado:\"))\n",
    "\n",
    "# Ejecutamos la función anterior.\n",
    "suprimir(x,y)"
   ]
  },
  {
   "cell_type": "markdown",
   "metadata": {},
   "source": [
    "## Ejercicio 2\n",
    "\n",
    "Escriba un probrama que, por medio de la técnica de **Guess and Check**, encuentre el punto medio entre dos números. "
   ]
  },
  {
   "cell_type": "code",
   "execution_count": 290,
   "metadata": {},
   "outputs": [
    {
     "name": "stdout",
     "output_type": "stream",
     "text": [
      "Ingrese valor 1:   5\n",
      "Ingrese valor 2:   90\n",
      "El valor aproximado promedio de [5.0, 90.0] es: 47.496999999980005\n",
      "Iteraciones realizadas: 47497\n"
     ]
    }
   ],
   "source": [
    "# Primero se ingresan los valores\n",
    "\n",
    "x = float(input(\"Ingrese valor 1:   \"))\n",
    "y = float(input(\"Ingrese valor 2:   \"))\n",
    "\n",
    "# Se forma una lista\n",
    "valores = []\n",
    "valores.append(x)\n",
    "valores.append(y)\n",
    "\n",
    "# El valor medio inicial es cero\n",
    "guess = 0\n",
    "float(guess)\n",
    "\n",
    "# Cálculo de las diferencias entre el valor a estimar \"promedio\" y los valores dados\n",
    "d1 = guess - min(valores)\n",
    "float(d1)\n",
    "d2 = max(valores) - guess\n",
    "float(d2)\n",
    "\n",
    "# Diferencia absoluta \"delta\"\n",
    "dif = abs(d2 - d1)\n",
    "\n",
    "# Valor de tolerancia\n",
    "ep = 0.01\n",
    "\n",
    "# Valor de iteración\n",
    "ite = 0.001\n",
    "\n",
    "# Contador\n",
    "intentos = 0\n",
    "\n",
    "# Guess and Check\n",
    "while dif > ep:\n",
    "    d1 = guess - min(valores)\n",
    "    d2 = max(valores) - guess\n",
    "    dif = abs(d2 - d1)\n",
    "    guess = guess + ite\n",
    "    intentos += 1\n",
    "    \n",
    "# Resultado\n",
    "\n",
    "print('El valor aproximado promedio de {0} es:'.format(valores), guess)\n",
    "print('Iteraciones realizadas:', intentos)"
   ]
  }
 ],
 "metadata": {
  "kernelspec": {
   "display_name": "Python 3",
   "language": "python",
   "name": "python3"
  },
  "language_info": {
   "codemirror_mode": {
    "name": "ipython",
    "version": 3
   },
   "file_extension": ".py",
   "mimetype": "text/x-python",
   "name": "python",
   "nbconvert_exporter": "python",
   "pygments_lexer": "ipython3",
   "version": "3.7.4"
  }
 },
 "nbformat": 4,
 "nbformat_minor": 2
}
