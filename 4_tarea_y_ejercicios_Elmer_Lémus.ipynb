{
 "cells": [
  {
   "cell_type": "markdown",
   "metadata": {},
   "source": [
    "#  Tarea y Ejercicios 4\n",
    "**Programación I**\n",
    "\n",
    "$$ Elmer Humberto Lémus Flores $$"
   ]
  },
  {
   "cell_type": "markdown",
   "metadata": {},
   "source": [
    "#  Hoja de Tarea 4"
   ]
  },
  {
   "cell_type": "markdown",
   "metadata": {},
   "source": [
    "## Ejercicio 0\n",
    "\n",
    "0. Cree una función que, si el número en una lista es par, imprima una `'p'`, de lo contrario, que imprima un ``'i'``. La impresión debe ser en la misma línea, por ejemplo: si la entrada es ``[2,3,2]``, la salida es ``pip``"
   ]
  },
  {
   "cell_type": "code",
   "execution_count": 24,
   "metadata": {},
   "outputs": [],
   "source": [
    "def parinpar(x):\n",
    "    \"\"\"\n",
    "    Crea una lista con el tamaño deseado y los valores deseados.\n",
    "    Luego dice si son par o impar.\n",
    "    \"\"\"\n",
    "    # lista en blanco\n",
    "    a = []\n",
    "    \n",
    "    # Llenar la lista segun los datos deseados\n",
    "    i=0\n",
    "    while i<=(x-1):\n",
    "        i += 1\n",
    "        b = int(input(\"Ingrese un número:\"))\n",
    "        a.append(b)\n",
    "    print(a)\n",
    "    \n",
    "    # Determinar si los valores son pares o impares\n",
    "    for i in range(len(a)):\n",
    "        resid = a[i]%2\n",
    "        if resid == 0:\n",
    "            a[i] = \"p\"\n",
    "        else:\n",
    "            a[i] = \"i\"\n",
    "    # concatenar el resultado\n",
    "    b = \"\".join(a) \n",
    "    print(\"\"\"\n",
    "    p = Par             i = Impar\n",
    "    \"\"\")\n",
    "    print(b)"
   ]
  },
  {
   "cell_type": "code",
   "execution_count": 25,
   "metadata": {
    "scrolled": false
   },
   "outputs": [
    {
     "name": "stdout",
     "output_type": "stream",
     "text": [
      "Ingrese el tamaño de la lista que desea: 8\n",
      "Ingrese un número:9\n",
      "Ingrese un número:4\n",
      "Ingrese un número:4\n",
      "Ingrese un número:8\n",
      "Ingrese un número:5\n",
      "Ingrese un número:4\n",
      "Ingrese un número:7\n",
      "Ingrese un número:4\n",
      "[9, 4, 4, 8, 5, 4, 7, 4]\n",
      "\n",
      "    p = Par             i = Impar\n",
      "    \n",
      "ipppipip\n"
     ]
    }
   ],
   "source": [
    "x = int(input(\"Ingrese el tamaño de la lista que desea: \"))\n",
    "\n",
    "parinpar(x)"
   ]
  },
  {
   "cell_type": "markdown",
   "metadata": {},
   "source": [
    "1. modifique su función para que admita  listas dentro de listas, es decir, si ingresa ``[[2,3], [2,3,2]]``, imprima  \n",
    "``pi``  \n",
    "``pip``"
   ]
  },
  {
   "cell_type": "code",
   "execution_count": 26,
   "metadata": {},
   "outputs": [],
   "source": [
    "def parimpar2(l):\n",
    "    \"\"\"\n",
    "    Modifique su función para que admita listas dentro de listas\n",
    "    \"\"\"\n",
    "    \n",
    "    # creamos dos listas vacías\n",
    "    al = []\n",
    "    asl = []\n",
    "    \n",
    "    # solicita el tamaño de la sublista y lo llena\n",
    "    for j in range(l):\n",
    "        j += 1\n",
    "        sl = int(input(\"Ingrese el tamaño de las sublista que desea: \"))\n",
    "        assl = asl[:]\n",
    "        \n",
    "        # Agrupa los elementos ingresados\n",
    "        for i in range(sl):\n",
    "            i += 1\n",
    "            b = int(input(\"Ingrese un número:\"))\n",
    "            assl.append(b)\n",
    "        \n",
    "        # transforma los valores\n",
    "        for i in range(len(assl)):\n",
    "            resid = assl[i]%2\n",
    "            if resid == 0:\n",
    "                assl[i] = \"p\"\n",
    "            else:\n",
    "                assl[i] = \"i\"\n",
    "        al.append(assl)\n",
    "        \n",
    "    # concatenamos\n",
    "    for k in range(len(al)):\n",
    "        print(\"\".join(al[k]))\n",
    "    return"
   ]
  },
  {
   "cell_type": "code",
   "execution_count": 27,
   "metadata": {},
   "outputs": [
    {
     "name": "stdout",
     "output_type": "stream",
     "text": [
      "Ingrese el tamaño de la lista que desea: 5\n",
      "Ingrese el tamaño de las sublista que desea: 2\n",
      "Ingrese un número:10\n",
      "Ingrese un número:4\n",
      "Ingrese el tamaño de las sublista que desea: 3\n",
      "Ingrese un número:1\n",
      "Ingrese un número:5\n",
      "Ingrese un número:9\n",
      "Ingrese el tamaño de las sublista que desea: 2\n",
      "Ingrese un número:5\n",
      "Ingrese un número:6\n",
      "Ingrese el tamaño de las sublista que desea: 1\n",
      "Ingrese un número:7\n",
      "Ingrese el tamaño de las sublista que desea: 8\n",
      "Ingrese un número:1\n",
      "Ingrese un número:5\n",
      "Ingrese un número:4\n",
      "Ingrese un número:6\n",
      "Ingrese un número:7\n",
      "Ingrese un número:8\n",
      "Ingrese un número:9\n",
      "Ingrese un número:8\n",
      "pp\n",
      "iii\n",
      "ip\n",
      "i\n",
      "iippipip\n"
     ]
    }
   ],
   "source": [
    "# Ingresar el tamaño de la lista general\n",
    "l = int(input(\"Ingrese el tamaño de la lista que desea: \"))\n",
    "parimpar2(l)"
   ]
  },
  {
   "cell_type": "markdown",
   "metadata": {},
   "source": [
    "## Ejercicio 1\n",
    "\n",
    "0. Dada un punto y un vector en $R^3$, escriba una función que devuelva los parámetros $a,b,c,d$ (en forma de tupla) de la forma escalar del plano $$ax+by+cz=d$$ "
   ]
  },
  {
   "cell_type": "code",
   "execution_count": 28,
   "metadata": {},
   "outputs": [],
   "source": [
    "# Dada un punto y un vector en R^3, escriba una función que devuelva los parámetros a,b,c,d\n",
    "# (en forma de tupla) de la forma escalar del plano ax+by+cz=d\n",
    "\n",
    "def form(f,a,b,c,x,y,z):\n",
    "    \n",
    "    # Función a evaluar\n",
    "    f = (a*x)+(b*y)+(c*z)\n",
    "    \n",
    "    # concatenar\n",
    "    vec.append(f)\n",
    "    return tuple(vec)"
   ]
  },
  {
   "cell_type": "code",
   "execution_count": 29,
   "metadata": {
    "scrolled": true
   },
   "outputs": [
    {
     "name": "stdout",
     "output_type": "stream",
     "text": [
      "para punto en R^3: 1\n",
      "para punto en R^3: 5\n",
      "para punto en R^3: 9\n",
      "Para vector en R^3: 7\n",
      "Para vector en R^3: 5\n",
      "Para vector en R^3: 3\n"
     ]
    },
    {
     "data": {
      "text/plain": [
       "(7, 5, 3, 59)"
      ]
     },
     "execution_count": 29,
     "metadata": {},
     "output_type": "execute_result"
    }
   ],
   "source": [
    "# listas en blanco para el punto y el vector\n",
    "pto = []\n",
    "vec = []\n",
    "\n",
    "# llenar la lista del punto\n",
    "i = 0\n",
    "while i <= 2:\n",
    "    i += 1\n",
    "    punto = int(input(\"para punto en R^3: \"))\n",
    "    pto.append(punto)\n",
    "\n",
    "# llenar la lista del vector\n",
    "j = 0\n",
    "while j <= 2:\n",
    "    j += 1\n",
    "    vector = int(input(\"Para vector en R^3: \"))\n",
    "    vec.append(vector)\n",
    "\n",
    "# ejecutamos función\n",
    "form(f,vec[0],vec[1],vec[2],pto[0],pto[1],pto[2])"
   ]
  },
  {
   "cell_type": "markdown",
   "metadata": {},
   "source": [
    "1. Cree función que reciba la salida anterior y nos permita evaluar un punto $(x,y)$ para obtener $z$, dada la ecuación del plano."
   ]
  },
  {
   "cell_type": "code",
   "execution_count": 30,
   "metadata": {},
   "outputs": [
    {
     "name": "stdout",
     "output_type": "stream",
     "text": [
      "[7, 5, 3, 59]\n",
      "[1, 5, 9]\n",
      "para punto en R^2: 1\n",
      "para punto en R^2: 5\n",
      "z vale: \n"
     ]
    },
    {
     "data": {
      "text/plain": [
       "9.0"
      ]
     },
     "execution_count": 30,
     "metadata": {},
     "output_type": "execute_result"
    }
   ],
   "source": [
    "# Vector a lista\n",
    "list(vec)\n",
    "print(vec)\n",
    "print(pto)\n",
    "\n",
    "# Punto en X y Y\n",
    "punto_nuevo = []\n",
    "\n",
    "# llenar la lista del punto\n",
    "k = 0\n",
    "while k <= 1:\n",
    "    k += 1\n",
    "    nuevo_punto = int(input(\"para punto en R^2: \"))\n",
    "    punto_nuevo.append(nuevo_punto)\n",
    "\n",
    "# Función\n",
    "f2 = lambda a,b,c,d,x,y : (d-(a*x+b*y))/c\n",
    "\n",
    "# evaluación\n",
    "print(\"z vale: \")\n",
    "f2(vec[0],vec[1],vec[2],vec[3],punto_nuevo[0],punto_nuevo[1])"
   ]
  },
  {
   "cell_type": "markdown",
   "metadata": {},
   "source": [
    "## Ejercicio 2\n",
    "\n",
    "Completar el siguiente código de la función de `biseccion` para que resuelva para un cero de la función $f(x)$ especificada en el argumento `f`. Utilice una función `lambda` para entregar el polinomio a la función `biseccion`."
   ]
  },
  {
   "cell_type": "code",
   "execution_count": 31,
   "metadata": {},
   "outputs": [],
   "source": [
    "def biseccion(f, a=-100, b=100, epsilon=0.001, max_iter=100):\n",
    "\n",
    "    guess = (a + b) / 2\n",
    "\n",
    "    # Contador de iteraciones\n",
    "    num_guesses = 0\n",
    "\n",
    "    while abs(f(guess)) >= epsilon and num_guesses < max_iter:\n",
    "        if f(a)*f(guess) > 0:\n",
    "            # Si f(a) y f(guess) tienen el mismo signo, se debe\n",
    "            # acortar el intervalo por la izquierda\n",
    "            # Tu código acá:\n",
    "            a = guess\n",
    "        else:\n",
    "            # De lo contrario, se acorta por el lado derecho\n",
    "            # Tu código acá:\n",
    "            b = guess\n",
    "        # Siguiente guess en el punto medio del espacio de búsqueda\n",
    "        guess = (a + b) / 2\n",
    "        num_guesses += 1\n",
    "    print('Iteraciones: ', num_guesses)\n",
    "    print('Solución encontrada: f(%0.4f) = %0.4f' % (guess, f(guess)))\n",
    "    return guess"
   ]
  },
  {
   "cell_type": "code",
   "execution_count": 32,
   "metadata": {},
   "outputs": [
    {
     "name": "stdout",
     "output_type": "stream",
     "text": [
      "Iteraciones:  10\n",
      "Solución encontrada: f(0.9990) = 0.0010\n"
     ]
    },
    {
     "data": {
      "text/plain": [
       "0.9990234375"
      ]
     },
     "execution_count": 32,
     "metadata": {},
     "output_type": "execute_result"
    }
   ],
   "source": [
    "f = lambda x: 1-x\n",
    "biseccion(f,a=-10,b=4)"
   ]
  },
  {
   "cell_type": "markdown",
   "metadata": {},
   "source": [
    "### El número de oro\n",
    "\n",
    "Utilizando nuestra función de `biseccion`, encontremos una aproximación a la proporción divina $$\\phi=\\frac{1+\\sqrt{5}}{2}$$ resultado del cero del polinomio $f(x)=x^2-x-1$ en el intervalo $[1,2]$."
   ]
  },
  {
   "cell_type": "code",
   "execution_count": 33,
   "metadata": {
    "scrolled": true
   },
   "outputs": [
    {
     "name": "stdout",
     "output_type": "stream",
     "text": [
      "Iteraciones:  16\n",
      "Solución encontrada: f(1.6180) = 0.0000\n",
      "1.6180343627929688\n"
     ]
    }
   ],
   "source": [
    "f = lambda x: x**2 - x - 1\n",
    "approx_phi = biseccion(f,a=1,b=2,epsilon=0.000001 )\n",
    "print(approx_phi)"
   ]
  },
  {
   "cell_type": "markdown",
   "metadata": {},
   "source": [
    "#  Hoja de Ejercicios 4"
   ]
  },
  {
   "cell_type": "markdown",
   "metadata": {},
   "source": [
    "## Ejercicio 0\n",
    "\n",
    "0. Escriba una función que cree una tupla rellena de ceros y que la longitud sea un argumento de la función. "
   ]
  },
  {
   "cell_type": "code",
   "execution_count": 39,
   "metadata": {},
   "outputs": [],
   "source": [
    "def expandir(x):\n",
    "    \"\"\"\n",
    "    Escriba una función que cree una tupla rellena de ceros\n",
    "    y que la longitud sea un argumento de la función.\n",
    "    \"\"\"\n",
    "    \n",
    "    # expande el valor de la tubla según el valor deseado \"0\"\n",
    "    t = (0,)*x\n",
    "    return t"
   ]
  },
  {
   "cell_type": "code",
   "execution_count": 41,
   "metadata": {},
   "outputs": [
    {
     "name": "stdout",
     "output_type": "stream",
     "text": [
      "Ingrese el tamaño de la tupla que desea: 8\n"
     ]
    },
    {
     "data": {
      "text/plain": [
       "(0, 0, 0, 0, 0, 0, 0, 0)"
      ]
     },
     "execution_count": 41,
     "metadata": {},
     "output_type": "execute_result"
    }
   ],
   "source": [
    "# Ingresa los valores\n",
    "x = int(input(\"Ingrese el tamaño de la tupla que desea: \"))\n",
    "\n",
    "expandir(x)"
   ]
  },
  {
   "cell_type": "markdown",
   "metadata": {},
   "source": [
    "1. Modifique la función anterior para que el elemento con el que se rellenará la tupla, sea parte del argumento."
   ]
  },
  {
   "cell_type": "code",
   "execution_count": 40,
   "metadata": {},
   "outputs": [],
   "source": [
    "def expandir2(x):\n",
    "    \"\"\"\n",
    "    Modifique la función anterior para que el elemento con el que se rellenará \n",
    "    la tupla, sea parte del argumento.\n",
    "    \"\"\"\n",
    "    \n",
    "    # expande el valor de la tubla según el valor deseado \"r\"\n",
    "    t = (r,)*x\n",
    "    return t"
   ]
  },
  {
   "cell_type": "code",
   "execution_count": 42,
   "metadata": {},
   "outputs": [
    {
     "name": "stdout",
     "output_type": "stream",
     "text": [
      "Ingrese el tamaño de la tupla que desea: 8\n",
      "Ingrese con qué quiere rellenar la tupla: 4\n"
     ]
    },
    {
     "data": {
      "text/plain": [
       "(4, 4, 4, 4, 4, 4, 4, 4)"
      ]
     },
     "execution_count": 42,
     "metadata": {},
     "output_type": "execute_result"
    }
   ],
   "source": [
    "# Ingresa los valores\n",
    "x = int(input(\"Ingrese el tamaño de la tupla que desea: \"))\n",
    "r = int(input(\"Ingrese con qué quiere rellenar la tupla: \"))\n",
    "\n",
    "expandir2(x)"
   ]
  },
  {
   "cell_type": "markdown",
   "metadata": {},
   "source": [
    " 2. Modifique la función para que se pueda elegir si crear una tupla o una lista. "
   ]
  },
  {
   "cell_type": "code",
   "execution_count": 43,
   "metadata": {},
   "outputs": [],
   "source": [
    "def expandir3(x,r,y):\n",
    "    \"\"\"\n",
    "    Modifique la función para que se pueda elegir si crear una tupla o una lista.\n",
    "    \"\"\"\n",
    "    #  si es tupla lo que se desea, se ejecuta\n",
    "    if y == \"tupla\":\n",
    "        t = (r,)*x\n",
    "        return t\n",
    "    \n",
    "    #  si es lista lo que se desea, se ejecuta\n",
    "    else:\n",
    "        t = [r]*x\n",
    "        return t"
   ]
  },
  {
   "cell_type": "code",
   "execution_count": 44,
   "metadata": {},
   "outputs": [
    {
     "name": "stdout",
     "output_type": "stream",
     "text": [
      "Ingrese el tamaño de la tupla que desea: 8\n",
      "Ingrese con qué quiere rellenar la tupla: 2\n",
      "\n",
      "    \"Qué deseas:\"\n",
      "    \n",
      "    Lista       o       Tupla\n",
      "    \n",
      "Tupla\n"
     ]
    },
    {
     "data": {
      "text/plain": [
       "(2, 2, 2, 2, 2, 2, 2, 2)"
      ]
     },
     "execution_count": 44,
     "metadata": {},
     "output_type": "execute_result"
    }
   ],
   "source": [
    "# Ingreso de valores\n",
    "x = int(input(\"Ingrese el tamaño de la tupla que desea: \"))\n",
    "r = int(input(\"Ingrese con qué quiere rellenar la tupla: \"))\n",
    "\n",
    "# Se determina lo que el usuario desea\n",
    "print(\"\"\"\n",
    "    \"Qué deseas:\"\n",
    "    \n",
    "    Lista       o       Tupla\n",
    "    \"\"\")\n",
    "y = str(input()).lower()\n",
    "\n",
    "# Selección obligatoria\n",
    "while (y != \"lista\") and (y != \"tupla\"):\n",
    "    print(\"Opción no válida\")\n",
    "    y = str(input(\"Qué deseas?: \"))\n",
    "    \n",
    "expandir3(x,r,y)"
   ]
  },
  {
   "cell_type": "markdown",
   "metadata": {},
   "source": [
    "## Ejercicio 1\n",
    "\n",
    "Escriba una función que cree una lista de longitud $J$, en donde sus elementos sean listas de longitud $I$ rellenas con el mismo elemento. Utilice la función creada en el *Ejercicio 0* . "
   ]
  },
  {
   "cell_type": "code",
   "execution_count": 46,
   "metadata": {},
   "outputs": [],
   "source": [
    "# Opción 1\n",
    "def expandir4(x,w,r):\n",
    "    \"\"\"\n",
    "    Escriba una función que cree una lista de longitud 𝐽, \n",
    "    en donde sus elementos sean listas de longitud 𝐼 rellenas con el mismo elemento.\n",
    "    \"\"\"\n",
    "    \n",
    "    # Expande las listas a lo deseado\n",
    "    t = [r]*x # principal\n",
    "    s = [r]*w # secundaria\n",
    "    for i in range(x):\n",
    "        t[i] = s\n",
    "    return t\n",
    "\n",
    "# Opción 2\n",
    "def expandir5(x,w,r):\n",
    "    s = [r]*w\n",
    "    t = [s]*x\n",
    "    return t\n",
    "\n",
    "# Opción 3\n",
    "def expandir6(x,y,r):\n",
    "    return [[r for i in range(y)] for i in range(x)]"
   ]
  },
  {
   "cell_type": "code",
   "execution_count": 48,
   "metadata": {},
   "outputs": [
    {
     "name": "stdout",
     "output_type": "stream",
     "text": [
      "Ingrese el tamaño de la lista que desea: 8\n",
      "Ingrese el tamaño de las sublista que desea: 12\n",
      "Qué elemento deseas que salga: 5\n"
     ]
    },
    {
     "data": {
      "text/plain": [
       "[['5', '5', '5', '5', '5', '5', '5', '5', '5', '5', '5', '5'],\n",
       " ['5', '5', '5', '5', '5', '5', '5', '5', '5', '5', '5', '5'],\n",
       " ['5', '5', '5', '5', '5', '5', '5', '5', '5', '5', '5', '5'],\n",
       " ['5', '5', '5', '5', '5', '5', '5', '5', '5', '5', '5', '5'],\n",
       " ['5', '5', '5', '5', '5', '5', '5', '5', '5', '5', '5', '5'],\n",
       " ['5', '5', '5', '5', '5', '5', '5', '5', '5', '5', '5', '5'],\n",
       " ['5', '5', '5', '5', '5', '5', '5', '5', '5', '5', '5', '5'],\n",
       " ['5', '5', '5', '5', '5', '5', '5', '5', '5', '5', '5', '5']]"
      ]
     },
     "execution_count": 48,
     "metadata": {},
     "output_type": "execute_result"
    }
   ],
   "source": [
    "# Ingreso de valores\n",
    "x = int(input(\"Ingrese el tamaño de la lista que desea: \"))\n",
    "w = int(input(\"Ingrese el tamaño de las sublista que desea: \"))\n",
    "r = str(input(\"Qué elemento deseas que salga: \"))\n",
    "\n",
    "# Selección de método\n",
    "expandir4(x,w,r)\n",
    "#expandir5(x,w,r)\n",
    "#expandir6(x,w,r)"
   ]
  },
  {
   "cell_type": "markdown",
   "metadata": {},
   "source": [
    "## Ejercicio 2\n",
    "\n",
    "Sean las funciones: \n",
    "$$f(x,y) = 2x + 3y +5$$ \n",
    "y \n",
    "$$g(h) = h^2$$ \n",
    "\n",
    "0. Definas las funciones $f(x,y)$ y $g(h)$ (como funciones anónimas)."
   ]
  },
  {
   "cell_type": "code",
   "execution_count": 49,
   "metadata": {},
   "outputs": [],
   "source": [
    "# Función f anónima\n",
    "f = lambda x,y : 2*x + 3*y + 5\n",
    "\n",
    "# Función g anónima\n",
    "g = lambda z : z**2"
   ]
  },
  {
   "cell_type": "markdown",
   "metadata": {},
   "source": [
    "1. Cree una función llamada *composición*, que reciba como argumentos las funciones anteriores y los argumentos necesarios para que regrese $g(f(x,y))$."
   ]
  },
  {
   "cell_type": "code",
   "execution_count": 50,
   "metadata": {},
   "outputs": [
    {
     "name": "stdout",
     "output_type": "stream",
     "text": [
      "Ingrese X: 9\n",
      "Ingrese Y: 8\n"
     ]
    },
    {
     "data": {
      "text/plain": [
       "2209"
      ]
     },
     "execution_count": 50,
     "metadata": {},
     "output_type": "execute_result"
    }
   ],
   "source": [
    "# Ingreso de valores\n",
    "\n",
    "x = int(input(\"Ingrese X: \"))\n",
    "y = int(input(\"Ingrese Y: \"))\n",
    "\n",
    "# Se determina la función\n",
    "composición = lambda g,f,x,y : g(f(x,y))\n",
    "\n",
    "# Se ejecuta\n",
    "composición(g,f,x,y)"
   ]
  },
  {
   "cell_type": "markdown",
   "metadata": {},
   "source": [
    "2. Cree una *tupla* que contenga 10 números para $x$, y una *lista* que contenga 10 números para $y$."
   ]
  },
  {
   "cell_type": "code",
   "execution_count": 51,
   "metadata": {},
   "outputs": [
    {
     "name": "stdout",
     "output_type": "stream",
     "text": [
      "Puntos para X: 1\n",
      "Puntos para X: 2\n",
      "Puntos para X: 3\n",
      "Puntos para X: 4\n",
      "Puntos para X: 5\n",
      "Puntos para X: 6\n",
      "Puntos para X: 7\n",
      "Puntos para X: 8\n",
      "Puntos para X: 9\n",
      "Puntos para X: 10\n",
      "(1, 2, 3, 4, 5, 6, 7, 8, 9, 10)\n",
      "Puntos para Y: 11\n",
      "Puntos para Y: 12\n",
      "Puntos para Y: 13\n",
      "Puntos para Y: 14\n",
      "Puntos para Y: 15\n",
      "Puntos para Y: 16\n",
      "Puntos para Y: 17\n",
      "Puntos para Y: 18\n",
      "Puntos para Y: 19\n",
      "Puntos para Y: 20\n",
      "[11, 12, 13, 14, 15, 16, 17, 18, 19, 20]\n"
     ]
    }
   ],
   "source": [
    "# Se crean dos listas vacías\n",
    "x = []\n",
    "y = []\n",
    "\n",
    "# Total de valores deseados\n",
    "ee = 10\n",
    "\n",
    "# llenar la lista de x\n",
    "i = 0\n",
    "while i <= ee-1:\n",
    "    i += 1\n",
    "    punto = int(input(\"Puntos para X: \"))\n",
    "    x.append(punto)\n",
    "print(tuple(x))\n",
    "\n",
    "# llenar la lista de y\n",
    "j = 0\n",
    "while j <= ee-1:\n",
    "    j += 1\n",
    "    punto2 = int(input(\"Puntos para Y: \"))\n",
    "    y.append(punto2)\n",
    "print(y)"
   ]
  },
  {
   "cell_type": "markdown",
   "metadata": {},
   "source": [
    "3. Por medio de loops (utilice tanto *while* como *for*), evalúe el producto cartesiano entre $x$ y $y$ en la función compuesta creada en el numeral 1. Imprima los números evaluados y su respectivo resultado."
   ]
  },
  {
   "cell_type": "code",
   "execution_count": 52,
   "metadata": {},
   "outputs": [
    {
     "name": "stdout",
     "output_type": "stream",
     "text": [
      "[1600, 1849, 2116, 2401, 2704, 3025, 3364, 3721, 4096, 4489, 1764, 2025, 2304, 2601, 2916, 3249, 3600, 3969, 4356, 4761, 1936, 2209, 2500, 2809, 3136, 3481, 3844, 4225, 4624, 5041, 2116, 2401, 2704, 3025, 3364, 3721, 4096, 4489, 4900, 5329, 2304, 2601, 2916, 3249, 3600, 3969, 4356, 4761, 5184, 5625, 2500, 2809, 3136, 3481, 3844, 4225, 4624, 5041, 5476, 5929, 2704, 3025, 3364, 3721, 4096, 4489, 4900, 5329, 5776, 6241, 2916, 3249, 3600, 3969, 4356, 4761, 5184, 5625, 6084, 6561, 3136, 3481, 3844, 4225, 4624, 5041, 5476, 5929, 6400, 6889, 3364, 3721, 4096, 4489, 4900, 5329, 5776, 6241, 6724, 7225]\n"
     ]
    }
   ],
   "source": [
    "# Lista de respuesta, actualmente vacía\n",
    "resp = []\n",
    "\n",
    "# Iteración de cada X\n",
    "for i in range(ee):\n",
    "    # Iteración de cada Y\n",
    "    for j in range(ee):\n",
    "        # Ejecuta la composición y almacena el resultado\n",
    "        resp.append(composición(g,f,x[i],y[j]))\n",
    "print(resp)"
   ]
  }
 ],
 "metadata": {
  "kernelspec": {
   "display_name": "Python 3",
   "language": "python",
   "name": "python3"
  },
  "language_info": {
   "codemirror_mode": {
    "name": "ipython",
    "version": 3
   },
   "file_extension": ".py",
   "mimetype": "text/x-python",
   "name": "python",
   "nbconvert_exporter": "python",
   "pygments_lexer": "ipython3",
   "version": "3.7.4"
  }
 },
 "nbformat": 4,
 "nbformat_minor": 2
}
