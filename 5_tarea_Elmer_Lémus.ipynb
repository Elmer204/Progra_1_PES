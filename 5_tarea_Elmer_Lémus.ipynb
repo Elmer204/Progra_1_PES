{
 "cells": [
  {
   "cell_type": "markdown",
   "metadata": {},
   "source": [
    "# Tarea # 5\n",
    "**Programacion I**\n",
    "\n",
    "## Elmer Humberto Lémus"
   ]
  },
  {
   "cell_type": "markdown",
   "metadata": {},
   "source": [
    "## Ejercicio 1\n",
    "\n",
    "Ejecute el siguiente programa y explique su procedimiento y el porqué del resultado. "
   ]
  },
  {
   "cell_type": "code",
   "execution_count": 1,
   "metadata": {},
   "outputs": [
    {
     "ename": "RecursionError",
     "evalue": "maximum recursion depth exceeded",
     "output_type": "error",
     "traceback": [
      "\u001b[1;31m---------------------------------------------------------------------------\u001b[0m",
      "\u001b[1;31mRecursionError\u001b[0m                            Traceback (most recent call last)",
      "\u001b[1;32m<ipython-input-1-00d266b39dc6>\u001b[0m in \u001b[0;36m<module>\u001b[1;34m\u001b[0m\n\u001b[0;32m      2\u001b[0m     \u001b[0mf\u001b[0m\u001b[1;33m(\u001b[0m\u001b[0mf\u001b[0m\u001b[1;33m)\u001b[0m\u001b[1;33m\u001b[0m\u001b[1;33m\u001b[0m\u001b[0m\n\u001b[0;32m      3\u001b[0m \u001b[1;33m\u001b[0m\u001b[0m\n\u001b[1;32m----> 4\u001b[1;33m \u001b[0mRecusion\u001b[0m\u001b[1;33m(\u001b[0m\u001b[0mRecusion\u001b[0m\u001b[1;33m)\u001b[0m\u001b[1;33m\u001b[0m\u001b[1;33m\u001b[0m\u001b[0m\n\u001b[0m",
      "\u001b[1;32m<ipython-input-1-00d266b39dc6>\u001b[0m in \u001b[0;36mRecusion\u001b[1;34m(f)\u001b[0m\n\u001b[0;32m      1\u001b[0m \u001b[1;32mdef\u001b[0m \u001b[0mRecusion\u001b[0m\u001b[1;33m(\u001b[0m\u001b[0mf\u001b[0m\u001b[1;33m)\u001b[0m\u001b[1;33m:\u001b[0m\u001b[1;33m\u001b[0m\u001b[1;33m\u001b[0m\u001b[0m\n\u001b[1;32m----> 2\u001b[1;33m     \u001b[0mf\u001b[0m\u001b[1;33m(\u001b[0m\u001b[0mf\u001b[0m\u001b[1;33m)\u001b[0m\u001b[1;33m\u001b[0m\u001b[1;33m\u001b[0m\u001b[0m\n\u001b[0m\u001b[0;32m      3\u001b[0m \u001b[1;33m\u001b[0m\u001b[0m\n\u001b[0;32m      4\u001b[0m \u001b[0mRecusion\u001b[0m\u001b[1;33m(\u001b[0m\u001b[0mRecusion\u001b[0m\u001b[1;33m)\u001b[0m\u001b[1;33m\u001b[0m\u001b[1;33m\u001b[0m\u001b[0m\n",
      "... last 1 frames repeated, from the frame below ...\n",
      "\u001b[1;32m<ipython-input-1-00d266b39dc6>\u001b[0m in \u001b[0;36mRecusion\u001b[1;34m(f)\u001b[0m\n\u001b[0;32m      1\u001b[0m \u001b[1;32mdef\u001b[0m \u001b[0mRecusion\u001b[0m\u001b[1;33m(\u001b[0m\u001b[0mf\u001b[0m\u001b[1;33m)\u001b[0m\u001b[1;33m:\u001b[0m\u001b[1;33m\u001b[0m\u001b[1;33m\u001b[0m\u001b[0m\n\u001b[1;32m----> 2\u001b[1;33m     \u001b[0mf\u001b[0m\u001b[1;33m(\u001b[0m\u001b[0mf\u001b[0m\u001b[1;33m)\u001b[0m\u001b[1;33m\u001b[0m\u001b[1;33m\u001b[0m\u001b[0m\n\u001b[0m\u001b[0;32m      3\u001b[0m \u001b[1;33m\u001b[0m\u001b[0m\n\u001b[0;32m      4\u001b[0m \u001b[0mRecusion\u001b[0m\u001b[1;33m(\u001b[0m\u001b[0mRecusion\u001b[0m\u001b[1;33m)\u001b[0m\u001b[1;33m\u001b[0m\u001b[1;33m\u001b[0m\u001b[0m\n",
      "\u001b[1;31mRecursionError\u001b[0m: maximum recursion depth exceeded"
     ]
    }
   ],
   "source": [
    "def Recusion(f):\n",
    "    f(f)\n",
    "    \n",
    "Recusion(Recusion)"
   ]
  },
  {
   "cell_type": "markdown",
   "metadata": {},
   "source": [
    "El programa utiliza el procedimiento de recursión, es decir, que ejecuta la función de manera repetitiva hasta el nivel más bajo de la función y luego integra el resultado con el objetivo de obtener el resultado. Para este caso se ejecuta la función \"Recursión\" u ésta convoca a la misma función, infinitamente, lo cual da como resultado \"RecursionError: maximum recursion depth exceeded\", se alcanza el máximo de recursión permitido.\n",
    "\n",
    "El problema se origina porque se convoca la función y dentro de ella se convoca nuevamente indefinidamente"
   ]
  },
  {
   "cell_type": "markdown",
   "metadata": {},
   "source": [
    "## Ejercicio 2\n",
    "\n",
    "Vea el siguiente vídeo: <https://www.youtube.com/watch?v=qxRW5pDT2o4>  \n",
    "\n",
    "Complete el código siguiente para encontrar el máximo común divisor dado dos números enteros. \n",
    "\n",
    "Las condiciones básicas, son:"
   ]
  },
  {
   "cell_type": "markdown",
   "metadata": {},
   "source": [
    "Para dos números $a$ y $b$, tal que $b\\leq a$:\n",
    "* $mcd(a,0) = a$\n",
    "* Si $b\\vert a$ (divida enteramente), entonces $mcd(a,b)=b$\n",
    "* En otro caso, $mcd(a,b) = mcd(b,a \\,mod \\, b)$\n",
    "\n"
   ]
  },
  {
   "cell_type": "code",
   "execution_count": 2,
   "metadata": {},
   "outputs": [],
   "source": [
    "# Por el método recursivo, encuentra en mcd.\n",
    "def mcd(a,b):\n",
    "    '''Donde a >= b'''\n",
    "    if b == 0:\n",
    "        return a # mcd(a,0) = a\n",
    "    elif a % b == 0:\n",
    "        return b # mcd(a,b) = b si divide enteramente\n",
    "    else:\n",
    "        return mcd(b,a%b) # para otros casos"
   ]
  },
  {
   "cell_type": "code",
   "execution_count": 3,
   "metadata": {},
   "outputs": [
    {
     "data": {
      "text/plain": [
       "48"
      ]
     },
     "execution_count": 3,
     "metadata": {},
     "output_type": "execute_result"
    }
   ],
   "source": [
    "# Ahora, ejecutando la función\n",
    "mcd(48,0)"
   ]
  },
  {
   "cell_type": "markdown",
   "metadata": {},
   "source": [
    "## Ejercicio 3\n",
    "\n",
    "Implemente un algoritmo recursivo para obtener la parte entera de la división entre dos números enteros. (Pista: Asocie con la resta)."
   ]
  },
  {
   "cell_type": "code",
   "execution_count": 4,
   "metadata": {},
   "outputs": [],
   "source": [
    "def div_entera(a,b):\n",
    "    '''Obtiene la parte entera de la división entre dos números enteros.\n",
    "    a > b'''\n",
    "    if (b - a) == 0: # División entera\n",
    "        return 1\n",
    "    elif (b - a) < a: # Para bajar al último nivel\n",
    "        return 1\n",
    "    else:\n",
    "        return 1 + div_entera(a,(b-a)) # Proceso recursivo"
   ]
  },
  {
   "cell_type": "code",
   "execution_count": 5,
   "metadata": {},
   "outputs": [
    {
     "data": {
      "text/plain": [
       "5"
      ]
     },
     "execution_count": 5,
     "metadata": {},
     "output_type": "execute_result"
    }
   ],
   "source": [
    "div_entera(10,59)"
   ]
  },
  {
   "cell_type": "markdown",
   "metadata": {},
   "source": [
    "# Ejercicio 4\n",
    "\n",
    "En el ejemplo de clase (Coordinate), modifique el método constructor para que verifique que los argumentos $x$ y $y$ sean flotantes.  "
   ]
  },
  {
   "cell_type": "code",
   "execution_count": 6,
   "metadata": {},
   "outputs": [],
   "source": [
    "# Ejemplo de clase\n",
    "\n",
    "class Coordinate(object):\n",
    "    # Atributos (datos, funciones)\n",
    "    #...\n",
    "    # Método constructor\n",
    "    def __init__(self, x, y):\n",
    "        self.x = float(x) #Ahora estos son flotantes\n",
    "        self.y = float(y) #Ahora estos son flotantes\n",
    "    # Método de distancia\n",
    "    def distance(self, other):\n",
    "        x_diff_sq = (self.x - other.x)**2\n",
    "        y_diff_sq = (self.y - other.y)**2\n",
    "        return (x_diff_sq + y_diff_sq)**0.5\n",
    "    # Método de impresión\n",
    "    def __str__(self):\n",
    "        return \"<\"+str(self.x)+\",\"+str(self.y)+\">\"\n",
    "    # Suma de coordenadas\n",
    "    def __add__(self, other):\n",
    "        res_x = self.x + other.x\n",
    "        res_y = self.y + other.y\n",
    "        return Coordinate(res_x,res_y)\n",
    "    def __len__(self):\n",
    "        return 2"
   ]
  },
  {
   "cell_type": "code",
   "execution_count": 7,
   "metadata": {},
   "outputs": [
    {
     "data": {
      "text/plain": [
       "float"
      ]
     },
     "execution_count": 7,
     "metadata": {},
     "output_type": "execute_result"
    }
   ],
   "source": [
    "punto = Coordinate(10.3,15.5)\n",
    "punto\n",
    "\n",
    "type(punto.x)\n",
    "type(punto.y)"
   ]
  },
  {
   "cell_type": "markdown",
   "metadata": {},
   "source": [
    "# Ejercicio 5\n",
    "\n",
    "1. Cree una clase llamada ``Persona``, que asigne una cadena a la propiedad ``nombre`` y un número entero a la propiedad ``edad``. Al imprimir el objeto, debe concatenar tanto el nombre con la edad. "
   ]
  },
  {
   "cell_type": "code",
   "execution_count": 8,
   "metadata": {},
   "outputs": [],
   "source": [
    "# Clase que concatena el nombre de la persona y la edad.\n",
    "class persona(object):\n",
    "    \"\"\"\n",
    "    Permite concatenar el nombre y la edad de la persona.\n",
    "    \"\"\"\n",
    "    def __init__(self,nombre,edad):\n",
    "        self.nombre = str(nombre)\n",
    "        self.edad = int(edad)\n",
    "    \n",
    "    # Para la impresión\n",
    "    def __str__(self):\n",
    "        return \"%s de %s\" % (self.nombre, self.edad)"
   ]
  },
  {
   "cell_type": "code",
   "execution_count": 9,
   "metadata": {},
   "outputs": [
    {
     "name": "stdout",
     "output_type": "stream",
     "text": [
      "Elmer de 29\n"
     ]
    }
   ],
   "source": [
    "dato = persona(\"Elmer\",29)\n",
    "print(dato)"
   ]
  },
  {
   "cell_type": "markdown",
   "metadata": {},
   "source": [
    "2. A la clase anterior, añada un método para sumar dos objetos de tipo ``Persona``. El resultado debe ser ambos nombres concatenados y la suma de ambas edades."
   ]
  },
  {
   "cell_type": "code",
   "execution_count": 10,
   "metadata": {},
   "outputs": [],
   "source": [
    "# Ejercicio 2\n",
    "class persona2(object):\n",
    "    \"\"\"\n",
    "    Permite concatenar el nombre y la edad de la persona, \n",
    "    si ingresan dos personas, concatena el nombre y suma las edades.\n",
    "    \"\"\"\n",
    "    def __init__(self,nombre,edad):\n",
    "        self.nombre = str(nombre)\n",
    "        self.edad = int(edad)\n",
    "    \n",
    "    # Para sumar\n",
    "    def __add__(self, other):\n",
    "        nombres = self.nombre + \" y \" + other.nombre\n",
    "        edades = self.edad + other.edad\n",
    "        return persona2(nombres,edades)\n",
    "    \n",
    "    # Para imprimir\n",
    "    def __str__(self):\n",
    "        return \"%s con %s\" % (self.nombre, self.edad)"
   ]
  },
  {
   "cell_type": "code",
   "execution_count": 11,
   "metadata": {},
   "outputs": [
    {
     "name": "stdout",
     "output_type": "stream",
     "text": [
      "Elmer y Navas con 63\n"
     ]
    }
   ],
   "source": [
    "dato1 = persona2(\"Elmer\",29)\n",
    "dato2 = persona2(\"Navas\",34)\n",
    "\n",
    "dato3 = dato1 + dato2\n",
    "print(dato3)"
   ]
  },
  {
   "cell_type": "markdown",
   "metadata": {},
   "source": [
    "3. Modifique la clase para que el objeto tenga otra propiedad llamada ``altura``. Cuando se solicite la longitud del objeto, muestre la altura. También debe modificar el método de impresión para que muestre la altura. ¿Qué pasa con el método de suma?"
   ]
  },
  {
   "cell_type": "code",
   "execution_count": 12,
   "metadata": {},
   "outputs": [],
   "source": [
    "# Ejercicio 3\n",
    "class persona3(object):\n",
    "    \"\"\"\n",
    "    Permite concatenar el nombre y la edad de la persona, \n",
    "    si ingresan dos personas, concatena el nombre y suma las edades.\n",
    "    Si se desea cuantificar el largo de la persona, se utiliza len. Devuelve la altura.\n",
    "    \"\"\"    \n",
    "    def __init__(self,nombre,edad,altura):\n",
    "        self.nombre = str(nombre)\n",
    "        self.edad = int(edad)\n",
    "        self.altura = int(altura)\n",
    "        \n",
    "    # Para sumar\n",
    "    def __add__(self, other):\n",
    "        nombres = self.nombre + \" y \" + other.nombre\n",
    "        edades = self.edad + other.edad\n",
    "        alturas = self.altura + other.altura #Se agregó, ya que requiere un nuevo valor de entrada\n",
    "        return persona3(nombres,edades,alturas)\n",
    "    \n",
    "    # Para el largo\n",
    "    def __len__(self):\n",
    "        return self.altura\n",
    "    \n",
    "    # Para imprimir\n",
    "    def __str__(self):\n",
    "        return \"%s con %s, de %f de altura\" % (self.nombre, self.edad, self.altura)"
   ]
  },
  {
   "cell_type": "code",
   "execution_count": 13,
   "metadata": {},
   "outputs": [
    {
     "data": {
      "text/plain": [
       "165"
      ]
     },
     "execution_count": 13,
     "metadata": {},
     "output_type": "execute_result"
    }
   ],
   "source": [
    "dato4 = persona3(\"Mariela\",29,165)\n",
    "dato5 = persona3(\"Allan\",29,180)\n",
    "\n",
    "len(dato4)"
   ]
  },
  {
   "cell_type": "markdown",
   "metadata": {},
   "source": [
    "Con la suma, dado que ahora existe un nuevo valor de entrada, ahora genera un error. Para su corrección  \n",
    "se agregó el promedio de las alturas como valor de salida."
   ]
  },
  {
   "cell_type": "markdown",
   "metadata": {},
   "source": [
    "# Ejercicio 6  \n",
    "Crear un clase que encripte un mensaje con el estilo César."
   ]
  },
  {
   "cell_type": "code",
   "execution_count": 14,
   "metadata": {},
   "outputs": [],
   "source": [
    "# Clase que encripta las cadenas con el estilo César.\n",
    "class Mensaje(object):\n",
    "    \"\"\"\n",
    "    Clase que permite encriptar las palabras bajo el estilo César si el desplazamiento es 3\n",
    "    aunque tambien permite ingresar otro desplazamiento.\n",
    "    \"\"\"\n",
    "    def __init__(self,msg,rot):\n",
    "        self.msg = str(msg)\n",
    "        self.rot = int(rot)\n",
    "    \n",
    "    # Encripta las palabras\n",
    "    def encriptar(self):\n",
    "        nueva = \"\"\n",
    "        for i in range(len(self.msg)):\n",
    "            nueva += chr(ord(self.msg[i])+self.rot)  \n",
    "        return print(\"El mensaje encriptado es\",nueva)\n",
    "    \n",
    "    # Desencripta las palabras\n",
    "    def desencriptar(self):\n",
    "        nueva = \"\"\n",
    "        for i in range(len(self.msg)):\n",
    "            nueva += chr(ord(self.msg[i])-self.rot)  \n",
    "        return print(\"El mensaje encriptado es\",nueva)  "
   ]
  },
  {
   "cell_type": "code",
   "execution_count": 15,
   "metadata": {},
   "outputs": [
    {
     "name": "stdout",
     "output_type": "stream",
     "text": [
      "El mensaje encriptado es Hophu\n"
     ]
    }
   ],
   "source": [
    "# Para encriptar las palabras, se debe indicar el desplazamiento\n",
    "palabra = Mensaje(\"Elmer\",3)\n",
    "palabra.encriptar()"
   ]
  },
  {
   "cell_type": "code",
   "execution_count": 16,
   "metadata": {},
   "outputs": [
    {
     "name": "stdout",
     "output_type": "stream",
     "text": [
      "El mensaje encriptado es Elmer\n"
     ]
    }
   ],
   "source": [
    "# Para desencriptar las palabras, se debe indicar el desplazamiento\n",
    "palabra = Mensaje(\"Hophu\",3)\n",
    "palabra.desencriptar()"
   ]
  },
  {
   "cell_type": "markdown",
   "metadata": {},
   "source": [
    "# Ejercicio 7  \n",
    "Comparación de dos canastas de bienes."
   ]
  },
  {
   "cell_type": "code",
   "execution_count": 17,
   "metadata": {},
   "outputs": [],
   "source": [
    "# Clase que compara las canastas\n",
    "class Canasta(object):\n",
    "    \"\"\"\n",
    "    Clase que compara los valores de utilidad de dos o más canastas.\n",
    "    \"\"\"\n",
    "    def __init__(self,x,y,z):\n",
    "        self.x = int(x)\n",
    "        self.y = int(y)\n",
    "        self.z = int(z)\n",
    "    \n",
    "    # Se utiliza para comparar si son iguales\n",
    "    def __eq__(self, other):\n",
    "        utilidad_a = (self.x**0.3)*(self.y**0.6)*(self.z**0.1)\n",
    "        utilidad_b = (other.x**0.3)*(other.y**0.6)*(other.z**0.1)\n",
    "        return utilidad_a == utilidad_b\n",
    "    \n",
    "    # Se utiliza para comparar si una es menor que otra\n",
    "    def __lt__(self, other):\n",
    "        utilidad_a = (self.x**0.3)*(self.y**0.6)*(self.z**0.1)\n",
    "        utilidad_b = (other.x**0.3)*(other.y**0.6)*(other.z**0.1)\n",
    "        return utilidad_a < utilidad_b  "
   ]
  },
  {
   "cell_type": "code",
   "execution_count": 18,
   "metadata": {},
   "outputs": [
    {
     "name": "stdout",
     "output_type": "stream",
     "text": [
      "La canasta 1 genera menos utilidad que la canasta 2\n"
     ]
    }
   ],
   "source": [
    "# Se comparan dos canastas bajo la función de utilidad Cobb-Douglas\n",
    "# Los bienes son Cerveza, Ocio y Ceviche\n",
    "\n",
    "can1 = Canasta(30,25,5)\n",
    "can2 = Canasta(100,25,5)\n",
    "\n",
    "# Regla de comparación:\n",
    "if can1 == can2:\n",
    "    print(\"Ambas canastas generan la misma utilidad\")\n",
    "elif can1 < can2:\n",
    "    print(\"La canasta 1 genera menos utilidad que la canasta 2\")\n",
    "else:\n",
    "    print(\"La canasta 1 genera más utilidad que la canasta 2\")"
   ]
  }
 ],
 "metadata": {
  "kernelspec": {
   "display_name": "Python 3",
   "language": "python",
   "name": "python3"
  },
  "language_info": {
   "codemirror_mode": {
    "name": "ipython",
    "version": 3
   },
   "file_extension": ".py",
   "mimetype": "text/x-python",
   "name": "python",
   "nbconvert_exporter": "python",
   "pygments_lexer": "ipython3",
   "version": "3.7.4"
  }
 },
 "nbformat": 4,
 "nbformat_minor": 2
}
