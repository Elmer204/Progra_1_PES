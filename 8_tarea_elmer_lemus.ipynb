{
 "cells": [
  {
   "cell_type": "markdown",
   "metadata": {},
   "source": [
    "# Tarea 8\n",
    "**Programación I**  \n",
    "## Elmer Humberto Lémus Flores"
   ]
  },
  {
   "cell_type": "code",
   "execution_count": 1,
   "metadata": {},
   "outputs": [],
   "source": [
    "import numpy as np"
   ]
  },
  {
   "cell_type": "markdown",
   "metadata": {},
   "source": [
    "## Ejercicio 1\n",
    "\n",
    "Cree una matriz que contenga ceros. Rellene la mitad de ellos aleatoriamente con unos."
   ]
  },
  {
   "cell_type": "code",
   "execution_count": 2,
   "metadata": {
    "scrolled": true
   },
   "outputs": [
    {
     "name": "stdout",
     "output_type": "stream",
     "text": [
      "Filas: 5\n",
      "Columnas: 5\n",
      "\n",
      " [[0. 0. 0. 1. 0.]\n",
      " [1. 1. 0. 1. 0.]\n",
      " [0. 1. 0. 0. 1.]\n",
      " [0. 0. 1. 0. 1.]\n",
      " [1. 1. 0. 1. 1.]]\n",
      "\n",
      " Total de puntos aleatorios:  12.0\n"
     ]
    }
   ],
   "source": [
    "# Ingreso de dimensiones de la matriz\n",
    "\n",
    "filas = int(input(\"Filas: \"))\n",
    "columnas = int(input(\"Columnas: \"))\n",
    "\n",
    "# Creación de lista de ceros\n",
    "a = np.zeros(filas*columnas)\n",
    "\n",
    "# Creación de indice de coordenadas\n",
    "b = np.arange(filas*columnas)\n",
    "\n",
    "# Creación de coordenadas\n",
    "c = np.random.choice(b,int(filas*columnas/2),replace=False)\n",
    "\n",
    "# Reemplazo por 1\n",
    "a[c]=1\n",
    "\n",
    "# Transformación a matriz\n",
    "a.resize(filas,columnas)\n",
    "print(\"\\n\",a)\n",
    "print(\"\\n\",\"Total de puntos aleatorios: \", a.sum())"
   ]
  },
  {
   "cell_type": "code",
   "execution_count": 3,
   "metadata": {
    "scrolled": true
   },
   "outputs": [
    {
     "name": "stdout",
     "output_type": "stream",
     "text": [
      "[[1 1 0 0 0]\n",
      " [1 0 1 0 0]\n",
      " [0 0 0 0 1]\n",
      " [0 1 1 0 0]\n",
      " [0 0 1 1 0]]\n"
     ]
    },
    {
     "data": {
      "text/plain": [
       "9"
      ]
     },
     "execution_count": 3,
     "metadata": {},
     "output_type": "execute_result"
    }
   ],
   "source": [
    "# Para crear una matriz sin restricción de unos\n",
    "\n",
    "a = np.random.randint(0,2,[filas, columnas])\n",
    "print(a)\n",
    "a.sum()"
   ]
  },
  {
   "cell_type": "markdown",
   "metadata": {},
   "source": [
    "## Ejercicio 2\n",
    "Cree dos matrices de dimensiones $(5,2)$. La primera rellena de ceros y la siguiente de unos. "
   ]
  },
  {
   "cell_type": "code",
   "execution_count": 4,
   "metadata": {},
   "outputs": [
    {
     "name": "stdout",
     "output_type": "stream",
     "text": [
      "[[0. 0.]\n",
      " [0. 0.]\n",
      " [0. 0.]\n",
      " [0. 0.]\n",
      " [0. 0.]] \n",
      "\n",
      "[[1. 1.]\n",
      " [1. 1.]\n",
      " [1. 1.]\n",
      " [1. 1.]\n",
      " [1. 1.]]\n"
     ]
    }
   ],
   "source": [
    "# Se solicitan las dimensiones de la matriz\n",
    "f = 5\n",
    "c = 2\n",
    "\n",
    "# Creamos la matriz de ceros\n",
    "zero = np.zeros([f, c])\n",
    "one = np.ones([f, c])\n",
    "\n",
    "# Impresión de tableros\n",
    "print(zero, \"\\n\")\n",
    "print(one)"
   ]
  },
  {
   "cell_type": "markdown",
   "metadata": {},
   "source": [
    "1.\tConvierta las matrices en vectores columna."
   ]
  },
  {
   "cell_type": "code",
   "execution_count": 5,
   "metadata": {},
   "outputs": [
    {
     "data": {
      "text/plain": [
       "array([[0.],\n",
       "       [0.],\n",
       "       [0.],\n",
       "       [0.],\n",
       "       [0.],\n",
       "       [0.],\n",
       "       [0.],\n",
       "       [0.],\n",
       "       [0.],\n",
       "       [0.]])"
      ]
     },
     "execution_count": 5,
     "metadata": {},
     "output_type": "execute_result"
    }
   ],
   "source": [
    "# Se modifica la forma de la matriz con resize, la cual sí afecta la forma de la matriz original\n",
    "zero.resize(f*c, 1)\n",
    "zero"
   ]
  },
  {
   "cell_type": "code",
   "execution_count": 6,
   "metadata": {},
   "outputs": [
    {
     "data": {
      "text/plain": [
       "array([[1.],\n",
       "       [1.],\n",
       "       [1.],\n",
       "       [1.],\n",
       "       [1.],\n",
       "       [1.],\n",
       "       [1.],\n",
       "       [1.],\n",
       "       [1.],\n",
       "       [1.]])"
      ]
     },
     "execution_count": 6,
     "metadata": {},
     "output_type": "execute_result"
    }
   ],
   "source": [
    "# Se modifica la forma de la matriz con resize, la cual sí afecta la forma de la matriz original\n",
    "one.resize(f*c, 1)\n",
    "one"
   ]
  },
  {
   "cell_type": "markdown",
   "metadata": {},
   "source": [
    "2.\tApile ambos vectores a lo largo de una tercera dimensión."
   ]
  },
  {
   "cell_type": "code",
   "execution_count": 7,
   "metadata": {},
   "outputs": [
    {
     "data": {
      "text/plain": [
       "array([[[0., 1.]],\n",
       "\n",
       "       [[0., 1.]],\n",
       "\n",
       "       [[0., 1.]],\n",
       "\n",
       "       [[0., 1.]],\n",
       "\n",
       "       [[0., 1.]],\n",
       "\n",
       "       [[0., 1.]],\n",
       "\n",
       "       [[0., 1.]],\n",
       "\n",
       "       [[0., 1.]],\n",
       "\n",
       "       [[0., 1.]],\n",
       "\n",
       "       [[0., 1.]]])"
      ]
     },
     "execution_count": 7,
     "metadata": {},
     "output_type": "execute_result"
    }
   ],
   "source": [
    "# Se concantenan los valores verticalmente\n",
    "tercera = np.dstack((zero,one))\n",
    "tercera"
   ]
  },
  {
   "cell_type": "markdown",
   "metadata": {},
   "source": [
    "3.\tCon las matrices originales, conviértalas en vectores fila y concaténelos verticalmente."
   ]
  },
  {
   "cell_type": "code",
   "execution_count": 8,
   "metadata": {},
   "outputs": [
    {
     "data": {
      "text/plain": [
       "array([[0.],\n",
       "       [0.],\n",
       "       [0.],\n",
       "       [0.],\n",
       "       [0.],\n",
       "       [0.],\n",
       "       [0.],\n",
       "       [0.],\n",
       "       [0.],\n",
       "       [0.],\n",
       "       [1.],\n",
       "       [1.],\n",
       "       [1.],\n",
       "       [1.],\n",
       "       [1.],\n",
       "       [1.],\n",
       "       [1.],\n",
       "       [1.],\n",
       "       [1.],\n",
       "       [1.]])"
      ]
     },
     "execution_count": 8,
     "metadata": {},
     "output_type": "execute_result"
    }
   ],
   "source": [
    "# Se pasan las matrices a filas\n",
    "zero.reshape(1,f*c)\n",
    "one.reshape(1,f*c)\n",
    "\n",
    "# se concantenan verticalmente\n",
    "np.vstack((zero,one))"
   ]
  },
  {
   "cell_type": "markdown",
   "metadata": {},
   "source": [
    "## Ejercicio 3\n",
    "\n",
    "Dada la función $f(x,y,z) = 2x +3y + z^2$"
   ]
  },
  {
   "cell_type": "code",
   "execution_count": 9,
   "metadata": {},
   "outputs": [],
   "source": [
    "# Se define la función\n",
    "def f(x,y,z):\n",
    "    return (2*x) + (3*y) + (z**2)"
   ]
  },
  {
   "cell_type": "markdown",
   "metadata": {},
   "source": [
    "1.\tGenere una matriz con números aleatorios para cada variable."
   ]
  },
  {
   "cell_type": "code",
   "execution_count": 10,
   "metadata": {},
   "outputs": [
    {
     "name": "stdout",
     "output_type": "stream",
     "text": [
      "Filas: 10\n"
     ]
    }
   ],
   "source": [
    "# Cantidad de valores para cada variable\n",
    "fila = int(input(\"Filas: \"))"
   ]
  },
  {
   "cell_type": "code",
   "execution_count": 11,
   "metadata": {},
   "outputs": [
    {
     "data": {
      "text/plain": [
       "array([[34, 59,  3],\n",
       "       [90, 54, 68],\n",
       "       [55, 63, 31],\n",
       "       [64, 53, 15],\n",
       "       [55, 73, 38],\n",
       "       [89, 92, 99],\n",
       "       [25, 44, 54],\n",
       "       [94, 87, 14],\n",
       "       [85, 41,  5],\n",
       "       [80, 88, 21]])"
      ]
     },
     "execution_count": 11,
     "metadata": {},
     "output_type": "execute_result"
    }
   ],
   "source": [
    "# Llenamos los valores de x, y, z con valores aleatorios\n",
    "x = np.random.randint(0,100,[fila, 1])\n",
    "y = np.random.randint(0,100,[fila, 1])\n",
    "z = np.random.randint(0,100,[fila, 1])\n",
    "\n",
    "# Creamos una matriz con los valores de las variables anteriores\n",
    "matrix = np.hstack((x,y,z))\n",
    "matrix"
   ]
  },
  {
   "cell_type": "markdown",
   "metadata": {},
   "source": [
    "2.\tEvalúe la matriz anterior en la función. El resultado debe ser un vector columna."
   ]
  },
  {
   "cell_type": "code",
   "execution_count": 12,
   "metadata": {},
   "outputs": [
    {
     "data": {
      "text/plain": [
       "array([[  254],\n",
       "       [ 4966],\n",
       "       [ 1260],\n",
       "       [  512],\n",
       "       [ 1773],\n",
       "       [10255],\n",
       "       [ 3098],\n",
       "       [  645],\n",
       "       [  318],\n",
       "       [  865]])"
      ]
     },
     "execution_count": 12,
     "metadata": {},
     "output_type": "execute_result"
    }
   ],
   "source": [
    "# Evaluamos los valores en la función\n",
    "f(x,y,z)"
   ]
  },
  {
   "cell_type": "markdown",
   "metadata": {},
   "source": [
    "## Ejercicio 4\n",
    "\n",
    "Suponga que dentro de un cuadrado de lado 50 cm, hay un cuadrado de 20cm. Ambos cuadrados comparten centro. Estime el área del cuadrado interno por método Monte Carlo. [Consulte Aquí]( http://mathonweb.com/entrtain/monte/t_monte.htm)"
   ]
  },
  {
   "cell_type": "code",
   "execution_count": 13,
   "metadata": {},
   "outputs": [
    {
     "name": "stdout",
     "output_type": "stream",
     "text": [
      "Matriz de área total\n",
      "[[1 1 1 ... 0 0 1]\n",
      " [1 0 1 ... 0 0 1]\n",
      " [0 1 1 ... 1 0 0]\n",
      " ...\n",
      " [0 1 1 ... 1 0 0]\n",
      " [1 0 1 ... 1 1 1]\n",
      " [0 0 1 ... 0 1 1]] \n",
      "\n",
      "El área total es:  1252 \n",
      "\n",
      "Matriz de área parcial\n",
      "[[1 0 0 0 0 0 0 0 0 1 1 0 1 1 0 0 0 1 0 0]\n",
      " [0 0 1 0 0 0 0 0 1 0 0 0 0 1 1 1 1 1 1 1]\n",
      " [0 0 1 1 1 1 0 1 0 0 1 0 0 1 0 1 0 0 1 1]\n",
      " [0 1 0 1 1 0 1 1 0 0 0 1 0 0 0 0 1 0 0 0]\n",
      " [1 1 0 1 1 0 0 1 0 1 0 0 1 0 1 0 0 0 0 0]\n",
      " [0 1 1 1 1 1 1 0 1 1 0 1 1 0 1 0 0 0 0 0]\n",
      " [0 0 1 0 0 1 0 0 1 1 0 1 1 1 0 0 0 1 1 0]\n",
      " [0 1 1 1 0 0 1 0 0 1 1 1 0 0 1 1 1 1 0 0]\n",
      " [1 1 1 1 0 0 0 0 1 1 0 0 1 0 0 1 0 1 1 1]\n",
      " [0 0 0 0 1 0 0 1 1 0 0 1 0 1 1 0 1 1 0 0]\n",
      " [0 0 0 1 0 1 1 0 1 1 1 0 1 0 0 1 1 0 0 1]\n",
      " [1 1 0 1 1 0 1 1 0 1 1 1 1 1 0 1 1 1 0 1]\n",
      " [0 1 0 0 1 0 1 1 1 0 0 0 0 1 1 1 0 1 1 0]\n",
      " [0 1 0 0 1 1 1 1 1 0 1 0 0 0 0 1 0 1 0 1]\n",
      " [1 0 0 0 0 1 0 1 1 1 0 0 0 1 0 0 0 1 1 0]\n",
      " [0 0 0 1 0 0 1 1 1 1 0 1 0 0 1 1 0 0 0 1]\n",
      " [1 0 0 1 0 1 1 0 1 0 1 0 0 0 0 0 0 0 1 0]\n",
      " [1 1 0 1 1 1 1 1 1 1 0 0 0 0 0 0 0 1 1 1]\n",
      " [0 1 0 1 0 0 0 1 1 0 1 1 0 0 0 1 0 1 0 0]\n",
      " [0 1 0 1 0 1 1 1 1 1 0 1 1 1 0 0 0 1 0 0]]\n",
      "El área parcial es:  190\n",
      "La proporción del área es:  15.175718849840255\n"
     ]
    }
   ],
   "source": [
    "# Se crea la matriz de 50 por 50\n",
    "f = 50\n",
    "c = 50\n",
    "\n",
    "# Creamos la matriz de ceros\n",
    "area_total = np.random.randint(0,2,[f, c])\n",
    "\n",
    "# Impresión de tablero\n",
    "print(\"Matriz de área total\")\n",
    "print(area_total,\"\\n\")\n",
    "\n",
    "# Área total del tablero máx = 50*50 (2,500)\n",
    "area_total.sum()\n",
    "print(\"El área total es: \", area_total.sum(), \"\\n\")\n",
    "\n",
    "# Extracción del área pequeña\n",
    "print(\"Matriz de área parcial\")\n",
    "area_parcial = area_total[15:35,15:35]\n",
    "\n",
    "# Impresión del área parcial, cuadrado de 20*20\n",
    "print(area_parcial)\n",
    "\n",
    "# área máxima = 20*20 (400)\n",
    "area_parcial.sum()\n",
    "print(\"El área parcial es: \",area_parcial.sum())\n",
    "\n",
    "# Proporción de áreas\n",
    "esti = area_parcial.sum()/area_total.sum()*100\n",
    "esti\n",
    "print(\"La proporción del área es: \",esti)"
   ]
  },
  {
   "cell_type": "code",
   "execution_count": 14,
   "metadata": {},
   "outputs": [
    {
     "name": "stdout",
     "output_type": "stream",
     "text": [
      "La estimación del área del cuadrado de 20*20 es  379.39297124600637 cm cuadrados\n"
     ]
    }
   ],
   "source": [
    "# El área total del cuadrado será\n",
    "area_final = esti/100*2500\n",
    "print(\"La estimación del área del cuadrado de 20*20 es \",area_final, \"cm cuadrados\")"
   ]
  },
  {
   "cell_type": "markdown",
   "metadata": {},
   "source": [
    "## Ejercicio 5"
   ]
  },
  {
   "cell_type": "markdown",
   "metadata": {},
   "source": [
    "### *Tarea*\n",
    "\n",
    "1. De las siguientes secciones, escoger 73 funciones de NumPy y mostrar su utilización en un ejemplo.\n",
    "\n",
    "    - [Array creation routines](https://numpy.org/devdocs/reference/routines.array-creation.html)\n",
    "\n",
    "    - [Array manipulation routines](https://numpy.org/devdocs/reference/routines.array-manipulation.html)\n",
    "\n",
    "    - [Binary operations](https://numpy.org/devdocs/reference/routines.bitwise.html)\n",
    "\n",
    "    - [String operations](https://numpy.org/devdocs/reference/routines.char.html)"
   ]
  },
  {
   "cell_type": "markdown",
   "metadata": {},
   "source": [
    "### Array creation routines"
   ]
  },
  {
   "cell_type": "markdown",
   "metadata": {},
   "source": [
    "#### Ones and zeros"
   ]
  },
  {
   "cell_type": "code",
   "execution_count": 15,
   "metadata": {},
   "outputs": [
    {
     "data": {
      "text/plain": [
       "array([[1038391352,        564,         50,          0,          0],\n",
       "       [         0,          0,          0,          0,    3145808],\n",
       "       [1852990827,  892234853,  842545251,  758263862,  892744291],\n",
       "       [1647916077, 1633758565, 1663907383, 1664299831, 1647458659],\n",
       "       [ 775436131, 1952543859,    7631733, 1701183488,  842621493]])"
      ]
     },
     "execution_count": 15,
     "metadata": {},
     "output_type": "execute_result"
    }
   ],
   "source": [
    "# 1\n",
    "# numpy.empty\n",
    "# numpy.empty(shape, dtype=float, order='C')\n",
    "# Return a new array of given shape and type, without initializing entries.\n",
    "\n",
    "a = np.empty([5,5], dtype=int, order='C')\n",
    "a"
   ]
  },
  {
   "cell_type": "code",
   "execution_count": 16,
   "metadata": {},
   "outputs": [
    {
     "data": {
      "text/plain": [
       "array([[1, 0, 0, 0, 0],\n",
       "       [0, 1, 0, 0, 0],\n",
       "       [0, 0, 1, 0, 0],\n",
       "       [0, 0, 0, 1, 0],\n",
       "       [0, 0, 0, 0, 1]])"
      ]
     },
     "execution_count": 16,
     "metadata": {},
     "output_type": "execute_result"
    }
   ],
   "source": [
    "# 2\n",
    "# numpy.eye\n",
    "# numpy.eye(N, M=None, k=0, dtype=<class 'float'>, order='C')\n",
    "# Return a 2-D array with ones on the diagonal and zeros elsewhere.\n",
    "\n",
    "a = np.eye(5, dtype=int)\n",
    "a"
   ]
  },
  {
   "cell_type": "code",
   "execution_count": 17,
   "metadata": {},
   "outputs": [
    {
     "data": {
      "text/plain": [
       "array([[1, 0, 0, 0, 0],\n",
       "       [0, 1, 0, 0, 0],\n",
       "       [0, 0, 1, 0, 0],\n",
       "       [0, 0, 0, 1, 0],\n",
       "       [0, 0, 0, 0, 1]])"
      ]
     },
     "execution_count": 17,
     "metadata": {},
     "output_type": "execute_result"
    }
   ],
   "source": [
    "# 3\n",
    "# numpy.identity\n",
    "# numpy.identity(n, dtype=None)\n",
    "# Return the identity array. The identity array is a square array with \n",
    "# ones on the main diagonal.\n",
    "\n",
    "\n",
    "a = np.identity(5, dtype=int)\n",
    "a"
   ]
  },
  {
   "cell_type": "code",
   "execution_count": 18,
   "metadata": {},
   "outputs": [
    {
     "data": {
      "text/plain": [
       "array([[1, 1, 1, 1, 1],\n",
       "       [1, 1, 1, 1, 1],\n",
       "       [1, 1, 1, 1, 1],\n",
       "       [1, 1, 1, 1, 1],\n",
       "       [1, 1, 1, 1, 1]])"
      ]
     },
     "execution_count": 18,
     "metadata": {},
     "output_type": "execute_result"
    }
   ],
   "source": [
    "# 4\n",
    "# numpy.ones\n",
    "# numpy.ones(shape, dtype=None, order='C')\n",
    "# Return a new array of given shape and type, filled with ones.\n",
    "\n",
    "a = np.ones((5,5), dtype=int)\n",
    "a"
   ]
  },
  {
   "cell_type": "code",
   "execution_count": 19,
   "metadata": {},
   "outputs": [
    {
     "data": {
      "text/plain": [
       "array([[0, 0, 0, 0, 0],\n",
       "       [0, 0, 0, 0, 0],\n",
       "       [0, 0, 0, 0, 0],\n",
       "       [0, 0, 0, 0, 0],\n",
       "       [0, 0, 0, 0, 0]])"
      ]
     },
     "execution_count": 19,
     "metadata": {},
     "output_type": "execute_result"
    }
   ],
   "source": [
    "# 5\n",
    "# numpy.zeros\n",
    "# numpy.zeros(shape, dtype=float, order='C')\n",
    "# Return a new array of given shape and type, filled with zeros.\n",
    "\n",
    "a = np.zeros((5,5), dtype=int)\n",
    "a"
   ]
  },
  {
   "cell_type": "code",
   "execution_count": 20,
   "metadata": {},
   "outputs": [
    {
     "data": {
      "text/plain": [
       "array([[10, 10, 10, 10, 10],\n",
       "       [10, 10, 10, 10, 10],\n",
       "       [10, 10, 10, 10, 10],\n",
       "       [10, 10, 10, 10, 10],\n",
       "       [10, 10, 10, 10, 10]])"
      ]
     },
     "execution_count": 20,
     "metadata": {},
     "output_type": "execute_result"
    }
   ],
   "source": [
    "# 6\n",
    "# numpy.full\n",
    "# numpy.full(shape, fill_value, dtype=None, order='C')\n",
    "# Return a new array of given shape and type, filled with fill_value.\n",
    "\n",
    "a = np.full((5, 5), 10)\n",
    "a"
   ]
  },
  {
   "cell_type": "markdown",
   "metadata": {},
   "source": [
    "#### From existing data"
   ]
  },
  {
   "cell_type": "code",
   "execution_count": 21,
   "metadata": {},
   "outputs": [
    {
     "data": {
      "text/plain": [
       "array([1, 2, 3])"
      ]
     },
     "execution_count": 21,
     "metadata": {},
     "output_type": "execute_result"
    }
   ],
   "source": [
    "# 7\n",
    "# numpy.array\n",
    "# numpy.array(object, dtype=None, copy=True, order='K', subok=False, ndmin=0)\n",
    "# Create an array.\n",
    "\n",
    "a = np.array([1, 2, 3])\n",
    "a"
   ]
  },
  {
   "cell_type": "code",
   "execution_count": 22,
   "metadata": {},
   "outputs": [
    {
     "data": {
      "text/plain": [
       "array([1, 2, 3])"
      ]
     },
     "execution_count": 22,
     "metadata": {},
     "output_type": "execute_result"
    }
   ],
   "source": [
    "# 8\n",
    "# numpy.asarray\n",
    "# numpy.asarray(a, dtype=None, order=None)\n",
    "# Convert the input to an array.\n",
    "\n",
    "a = [1, 2, 3]\n",
    "np.asarray(a)"
   ]
  },
  {
   "cell_type": "code",
   "execution_count": 23,
   "metadata": {},
   "outputs": [
    {
     "data": {
      "text/plain": [
       "array([1, 2])"
      ]
     },
     "execution_count": 23,
     "metadata": {},
     "output_type": "execute_result"
    }
   ],
   "source": [
    "# 9\n",
    "# numpy.asanyarray\n",
    "# numpy.asanyarray(a, dtype=None, order=None)\n",
    "# Convert the input to an ndarray, but pass ndarray subclasses through.\n",
    "\n",
    "a = [1, 2]\n",
    "np.asanyarray(a)"
   ]
  },
  {
   "cell_type": "code",
   "execution_count": 24,
   "metadata": {},
   "outputs": [
    {
     "data": {
      "text/plain": [
       "array([[0., 1., 2.],\n",
       "       [3., 4., 5.]], dtype=float32)"
      ]
     },
     "execution_count": 24,
     "metadata": {},
     "output_type": "execute_result"
    }
   ],
   "source": [
    "# 10\n",
    "# numpy.ascontiguousarray\n",
    "# numpy.ascontiguousarray(a, dtype=None)\n",
    "# Return a contiguous array (ndim >= 1) in memory (C order).\n",
    "\n",
    "a = np.arange(6).reshape(2,3)\n",
    "np.ascontiguousarray(a, dtype=np.float32)"
   ]
  },
  {
   "cell_type": "code",
   "execution_count": 25,
   "metadata": {},
   "outputs": [
    {
     "data": {
      "text/plain": [
       "matrix([[1, 2],\n",
       "        [3, 4]])"
      ]
     },
     "execution_count": 25,
     "metadata": {},
     "output_type": "execute_result"
    }
   ],
   "source": [
    "# 11\n",
    "# numpy.asmatrix\n",
    "# numpy.asmatrix(data, dtype=None)\n",
    "# Interpret the input as a matrix.\n",
    "# Unlike matrix, asmatrix does not make a copy if the input is already a matrix \n",
    "# or an ndarray. Equivalent to matrix(data, copy=False).\n",
    "\n",
    "x = np.array([[1, 2], [3, 4]])\n",
    "m = np.asmatrix(x)\n",
    "m"
   ]
  },
  {
   "cell_type": "code",
   "execution_count": 26,
   "metadata": {},
   "outputs": [
    {
     "data": {
      "text/plain": [
       "array([[0, 1, 2],\n",
       "       [3, 4, 5]])"
      ]
     },
     "execution_count": 26,
     "metadata": {},
     "output_type": "execute_result"
    }
   ],
   "source": [
    "# 12\n",
    "# numpy.copy\n",
    "# numpy.copy(a, order='K')\n",
    "# Return an array copy of the given object.\n",
    "\n",
    "np.array(a, copy=True) "
   ]
  },
  {
   "cell_type": "code",
   "execution_count": 27,
   "metadata": {},
   "outputs": [
    {
     "name": "stdout",
     "output_type": "stream",
     "text": [
      "[1 2 3]\n",
      "[1 2 3]\n"
     ]
    }
   ],
   "source": [
    "x = np.array([1, 2, 3])\n",
    "y = x\n",
    "print(y)\n",
    "z = np.copy(x)\n",
    "print(x)"
   ]
  },
  {
   "cell_type": "code",
   "execution_count": 28,
   "metadata": {},
   "outputs": [
    {
     "data": {
      "text/plain": [
       "array([b'h', b'e', b'l', b'l', b'o', b' ', b'w', b'o', b'r', b'l', b'd'],\n",
       "      dtype='|S1')"
      ]
     },
     "execution_count": 28,
     "metadata": {},
     "output_type": "execute_result"
    }
   ],
   "source": [
    "# 13\n",
    "# numpy.frombuffer\n",
    "# numpy.frombuffer(buffer, dtype=float, count=-1, offset=0)\n",
    "# Interpret a buffer as a 1-dimensional array.\n",
    "\n",
    "s = b'hello world'\n",
    "np.frombuffer(s, dtype='S1', count=11, offset=0)"
   ]
  },
  {
   "cell_type": "code",
   "execution_count": 29,
   "metadata": {},
   "outputs": [
    {
     "data": {
      "text/plain": [
       "array([[ True, False, False],\n",
       "       [False,  True, False],\n",
       "       [False, False,  True]])"
      ]
     },
     "execution_count": 29,
     "metadata": {},
     "output_type": "execute_result"
    }
   ],
   "source": [
    "# 14\n",
    "# numpy.fromfunction\n",
    "# numpy.fromfunction(function, shape, *, dtype=<class 'float'>, **kwargs)\n",
    "# Construct an array by executing a function over each coordinate.\n",
    "# The resulting array therefore has a value fn(x, y, z) at coordinate (x, y, z).\n",
    "\n",
    "np.fromfunction(lambda i, j: i == j, (3, 3), dtype=int)"
   ]
  },
  {
   "cell_type": "code",
   "execution_count": 30,
   "metadata": {
    "scrolled": true
   },
   "outputs": [
    {
     "data": {
      "text/plain": [
       "array([[ 0,  1,  2,  3,  4,  5,  6,  7],\n",
       "       [ 1,  2,  3,  4,  5,  6,  7,  8],\n",
       "       [ 2,  3,  4,  5,  6,  7,  8,  9],\n",
       "       [ 3,  4,  5,  6,  7,  8,  9, 10],\n",
       "       [ 4,  5,  6,  7,  8,  9, 10, 11],\n",
       "       [ 5,  6,  7,  8,  9, 10, 11, 12],\n",
       "       [ 6,  7,  8,  9, 10, 11, 12, 13],\n",
       "       [ 7,  8,  9, 10, 11, 12, 13, 14]])"
      ]
     },
     "execution_count": 30,
     "metadata": {},
     "output_type": "execute_result"
    }
   ],
   "source": [
    "np.fromfunction(lambda i, j: i + j, (8, 8), dtype=int)"
   ]
  },
  {
   "cell_type": "code",
   "execution_count": 31,
   "metadata": {},
   "outputs": [
    {
     "data": {
      "text/plain": [
       "array([ 0.,  1.,  4.,  9., 16.])"
      ]
     },
     "execution_count": 31,
     "metadata": {},
     "output_type": "execute_result"
    }
   ],
   "source": [
    "# 15\n",
    "# numpy.fromiter\n",
    "# numpy.fromiter(iterable, dtype, count=-1)\n",
    "# Create a new 1-dimensional array from an iterable object.\n",
    "\n",
    "iterable = (x*x for x in range(5))\n",
    "np.fromiter(iterable, float)"
   ]
  },
  {
   "cell_type": "code",
   "execution_count": 32,
   "metadata": {},
   "outputs": [
    {
     "data": {
      "text/plain": [
       "array([1, 2])"
      ]
     },
     "execution_count": 32,
     "metadata": {},
     "output_type": "execute_result"
    }
   ],
   "source": [
    "# 16\n",
    "# numpy.fromstring\n",
    "# numpy.fromstring(string, dtype=float, count=-1, sep='')\n",
    "# A new 1-D array initialized from text data in a string.\n",
    "\n",
    "np.fromstring('1 2', dtype=int, sep=' ')"
   ]
  },
  {
   "cell_type": "markdown",
   "metadata": {},
   "source": [
    "#### Numerical ranges"
   ]
  },
  {
   "cell_type": "code",
   "execution_count": 33,
   "metadata": {},
   "outputs": [
    {
     "data": {
      "text/plain": [
       "array([ 1,  3,  5,  7,  9, 11, 13])"
      ]
     },
     "execution_count": 33,
     "metadata": {},
     "output_type": "execute_result"
    }
   ],
   "source": [
    "# 17\n",
    "# numpy.arange\n",
    "# numpy.arange([start, ]stop, [step, ]dtype=None)\n",
    "# Return evenly spaced values within a given interval.\n",
    "\n",
    "np.arange(1,15,2)"
   ]
  },
  {
   "cell_type": "code",
   "execution_count": 34,
   "metadata": {},
   "outputs": [
    {
     "data": {
      "text/plain": [
       "array([2.  , 2.25, 2.5 , 2.75, 3.  ])"
      ]
     },
     "execution_count": 34,
     "metadata": {},
     "output_type": "execute_result"
    }
   ],
   "source": [
    "# 18\n",
    "# numpy.linspace\n",
    "# numpy.linspace(start, stop, num=50, endpoint=True, retstep=False, dtype=None, axis=0)\n",
    "# Return evenly spaced numbers over a specified interval.\n",
    "\n",
    "np.linspace(2.0, 3.0, num=5)"
   ]
  },
  {
   "cell_type": "code",
   "execution_count": 35,
   "metadata": {},
   "outputs": [
    {
     "data": {
      "text/plain": [
       "array([2. , 2.2, 2.4, 2.6, 2.8])"
      ]
     },
     "execution_count": 35,
     "metadata": {},
     "output_type": "execute_result"
    }
   ],
   "source": [
    "np.linspace(2.0, 3.0, num=5, endpoint=False)"
   ]
  },
  {
   "cell_type": "code",
   "execution_count": 36,
   "metadata": {},
   "outputs": [
    {
     "data": {
      "text/plain": [
       "(array([2.  , 2.25, 2.5 , 2.75, 3.  ]), 0.25)"
      ]
     },
     "execution_count": 36,
     "metadata": {},
     "output_type": "execute_result"
    }
   ],
   "source": [
    "np.linspace(2.0, 3.0, num=5, retstep=True)"
   ]
  },
  {
   "cell_type": "code",
   "execution_count": 37,
   "metadata": {},
   "outputs": [
    {
     "data": {
      "text/plain": [
       "array([   1.        ,    2.15443469,    4.64158883,   10.        ,\n",
       "         21.5443469 ,   46.41588834,  100.        ,  215.443469  ,\n",
       "        464.15888336, 1000.        ])"
      ]
     },
     "execution_count": 37,
     "metadata": {},
     "output_type": "execute_result"
    }
   ],
   "source": [
    "# 19\n",
    "# numpy.logspace\n",
    "# numpy.logspace(start, stop, num=50, endpoint=True, base=10.0, dtype=None, axis=0)\n",
    "# Return numbers spaced evenly on a log scale.\n",
    "\n",
    "np.logspace(0.0, 3.0, num=10, endpoint=True, base=10.0)"
   ]
  },
  {
   "cell_type": "code",
   "execution_count": 38,
   "metadata": {},
   "outputs": [
    {
     "data": {
      "text/plain": [
       "array([  1.,  10., 100.])"
      ]
     },
     "execution_count": 38,
     "metadata": {},
     "output_type": "execute_result"
    }
   ],
   "source": [
    "# 20\n",
    "# numpy.geomspace\n",
    "# numpy.geomspace(start, stop, num=50, endpoint=True, dtype=None, axis=0)\n",
    "# Return numbers spaced evenly on a log scale (a geometric progression).\n",
    "\n",
    "np.geomspace(1, 1000, num=3, endpoint=False)"
   ]
  },
  {
   "cell_type": "code",
   "execution_count": 39,
   "metadata": {},
   "outputs": [
    {
     "name": "stdout",
     "output_type": "stream",
     "text": [
      "[[0.  0.5 1. ]\n",
      " [0.  0.5 1. ]]\n",
      "[[0. 0. 0.]\n",
      " [1. 1. 1.]]\n"
     ]
    }
   ],
   "source": [
    "# 21\n",
    "# numpy.meshgrid\n",
    "# numpy.meshgrid(*xi, copy=True, sparse=False, indexing='xy')\n",
    "# Return coordinate matrices from coordinate vectors.\n",
    "\n",
    "nx, ny = (3, 2)\n",
    "x = np.linspace(0, 1, nx)\n",
    "y = np.linspace(0, 1, ny)\n",
    "xv, yv = np.meshgrid(x, y)\n",
    "print(xv)\n",
    "print(yv)"
   ]
  },
  {
   "cell_type": "code",
   "execution_count": 40,
   "metadata": {},
   "outputs": [
    {
     "data": {
      "text/plain": [
       "array([[[0, 0, 0, 0, 0],\n",
       "        [1, 1, 1, 1, 1],\n",
       "        [2, 2, 2, 2, 2],\n",
       "        [3, 3, 3, 3, 3],\n",
       "        [4, 4, 4, 4, 4]],\n",
       "\n",
       "       [[0, 1, 2, 3, 4],\n",
       "        [0, 1, 2, 3, 4],\n",
       "        [0, 1, 2, 3, 4],\n",
       "        [0, 1, 2, 3, 4],\n",
       "        [0, 1, 2, 3, 4]]])"
      ]
     },
     "execution_count": 40,
     "metadata": {},
     "output_type": "execute_result"
    }
   ],
   "source": [
    "# 22\n",
    "# numpy.mgrid\n",
    "# numpy.mgrid = <numpy.lib.index_tricks.MGridClass object>\n",
    "# nd_grid instance which returns a dense multi-dimensional “meshgrid”.\n",
    "\n",
    "np.mgrid[0:5,0:5]"
   ]
  },
  {
   "cell_type": "code",
   "execution_count": 41,
   "metadata": {},
   "outputs": [
    {
     "data": {
      "text/plain": [
       "[array([[0],\n",
       "        [1],\n",
       "        [2],\n",
       "        [3],\n",
       "        [4]]), array([[0, 1, 2, 3, 4]])]"
      ]
     },
     "execution_count": 41,
     "metadata": {},
     "output_type": "execute_result"
    }
   ],
   "source": [
    "# 23\n",
    "# numpy.ogrid\n",
    "# numpy.ogrid = <numpy.lib.index_tricks.OGridClass object>\n",
    "# nd_grid instance which returns an open multi-dimensional “meshgrid”.\n",
    "\n",
    "from numpy import ogrid\n",
    "ogrid[0:5,0:5]"
   ]
  },
  {
   "cell_type": "markdown",
   "metadata": {},
   "source": [
    "#### Building matrices"
   ]
  },
  {
   "cell_type": "code",
   "execution_count": 42,
   "metadata": {},
   "outputs": [
    {
     "name": "stdout",
     "output_type": "stream",
     "text": [
      "[[0 1 2]\n",
      " [3 4 5]\n",
      " [6 7 8]]\n"
     ]
    },
    {
     "data": {
      "text/plain": [
       "array([0, 4, 8])"
      ]
     },
     "execution_count": 42,
     "metadata": {},
     "output_type": "execute_result"
    }
   ],
   "source": [
    "# 24\n",
    "# numpy.diag\n",
    "# numpy.diag(v, k=0)\n",
    "# Extract a diagonal or construct a diagonal array.\n",
    "\n",
    "x = np.arange(9).reshape((3,3))\n",
    "print(x)\n",
    "np.diag(x)"
   ]
  },
  {
   "cell_type": "code",
   "execution_count": 43,
   "metadata": {},
   "outputs": [
    {
     "data": {
      "text/plain": [
       "array([1, 5])"
      ]
     },
     "execution_count": 43,
     "metadata": {},
     "output_type": "execute_result"
    }
   ],
   "source": [
    "np.diag(x, k=1)"
   ]
  },
  {
   "cell_type": "code",
   "execution_count": 44,
   "metadata": {},
   "outputs": [
    {
     "data": {
      "text/plain": [
       "array([3, 7])"
      ]
     },
     "execution_count": 44,
     "metadata": {},
     "output_type": "execute_result"
    }
   ],
   "source": [
    "np.diag(x, k=-1)"
   ]
  },
  {
   "cell_type": "code",
   "execution_count": 45,
   "metadata": {},
   "outputs": [
    {
     "data": {
      "text/plain": [
       "array([[0, 0, 0],\n",
       "       [0, 4, 0],\n",
       "       [0, 0, 8]])"
      ]
     },
     "execution_count": 45,
     "metadata": {},
     "output_type": "execute_result"
    }
   ],
   "source": [
    "np.diag(np.diag(x))"
   ]
  },
  {
   "cell_type": "code",
   "execution_count": 46,
   "metadata": {},
   "outputs": [
    {
     "data": {
      "text/plain": [
       "array([[1, 0, 0, 0],\n",
       "       [0, 2, 0, 0],\n",
       "       [0, 0, 3, 0],\n",
       "       [0, 0, 0, 4]])"
      ]
     },
     "execution_count": 46,
     "metadata": {},
     "output_type": "execute_result"
    }
   ],
   "source": [
    "# 25\n",
    "# numpy.diagflat\n",
    "# numpy.diagflat(v, k=0)\n",
    "# Create a two-dimensional array with the flattened input as a diagonal.\n",
    "\n",
    "np.diagflat([[1,2], [3,4]], k=0)"
   ]
  },
  {
   "cell_type": "code",
   "execution_count": 47,
   "metadata": {},
   "outputs": [
    {
     "data": {
      "text/plain": [
       "array([[1, 0, 0, 0, 0],\n",
       "       [1, 1, 0, 0, 0],\n",
       "       [1, 1, 1, 0, 0],\n",
       "       [1, 1, 1, 1, 0],\n",
       "       [1, 1, 1, 1, 1]])"
      ]
     },
     "execution_count": 47,
     "metadata": {},
     "output_type": "execute_result"
    }
   ],
   "source": [
    "# 26\n",
    "# numpy.tri\n",
    "# numpy.tri(N, M=None, k=0, dtype=<class 'float'>)\n",
    "# An array with ones at and below the given diagonal and zeros elsewhere.\n",
    "\n",
    "np.tri(5, 5, 0, dtype=int)"
   ]
  },
  {
   "cell_type": "code",
   "execution_count": 48,
   "metadata": {},
   "outputs": [
    {
     "data": {
      "text/plain": [
       "array([[ 0,  0,  0],\n",
       "       [ 4,  0,  0],\n",
       "       [ 7,  8,  0],\n",
       "       [10, 11, 12]])"
      ]
     },
     "execution_count": 48,
     "metadata": {},
     "output_type": "execute_result"
    }
   ],
   "source": [
    "# 27\n",
    "# numpy.tril\n",
    "# numpy.tril(m, k=0)\n",
    "# Lower triangle of an array.\n",
    "\n",
    "np.tril([[1,2,3],[4,5,6],[7,8,9],[10,11,12]], -1)"
   ]
  },
  {
   "cell_type": "code",
   "execution_count": 49,
   "metadata": {},
   "outputs": [
    {
     "data": {
      "text/plain": [
       "array([[ 1,  2,  3],\n",
       "       [ 4,  5,  6],\n",
       "       [ 0,  8,  9],\n",
       "       [ 0,  0, 12]])"
      ]
     },
     "execution_count": 49,
     "metadata": {},
     "output_type": "execute_result"
    }
   ],
   "source": [
    "# 28\n",
    "# numpy.triu\n",
    "# numpy.triu(m, k=0)\n",
    "# Upper triangle of an array.\n",
    "\n",
    "np.triu([[1,2,3],[4,5,6],[7,8,9],[10,11,12]], -1)"
   ]
  },
  {
   "cell_type": "code",
   "execution_count": 50,
   "metadata": {},
   "outputs": [
    {
     "data": {
      "text/plain": [
       "array([[  1,   1,   1,   1],\n",
       "       [  8,   4,   2,   1],\n",
       "       [ 27,   9,   3,   1],\n",
       "       [125,  25,   5,   1]])"
      ]
     },
     "execution_count": 50,
     "metadata": {},
     "output_type": "execute_result"
    }
   ],
   "source": [
    "# 29\n",
    "# numpy.vander\n",
    "# numpy.vander(x, N=None, increasing=False)\n",
    "# Generate a Vandermonde matrix.\n",
    "\n",
    "x = np.array([1, 2, 3, 5])\n",
    "np.vander(x)"
   ]
  },
  {
   "cell_type": "code",
   "execution_count": 51,
   "metadata": {},
   "outputs": [
    {
     "data": {
      "text/plain": [
       "array([[  1,   1,   1,   1],\n",
       "       [  1,   2,   4,   8],\n",
       "       [  1,   3,   9,  27],\n",
       "       [  1,   5,  25, 125]])"
      ]
     },
     "execution_count": 51,
     "metadata": {},
     "output_type": "execute_result"
    }
   ],
   "source": [
    "np.vander(x, increasing=True)"
   ]
  },
  {
   "cell_type": "markdown",
   "metadata": {},
   "source": [
    "#### The Matrix class"
   ]
  },
  {
   "cell_type": "code",
   "execution_count": 52,
   "metadata": {},
   "outputs": [
    {
     "name": "stdout",
     "output_type": "stream",
     "text": [
      "[[1 2]\n",
      " [3 4]]\n"
     ]
    }
   ],
   "source": [
    "# 30\n",
    "# numpy.mat\n",
    "# numpy.mat(data, dtype=None)\n",
    "# Interpret the input as a matrix.\n",
    "\n",
    "x = np.array([[1, 2], [3, 4]])\n",
    "m = np.asmatrix(x)\n",
    "print(m)"
   ]
  },
  {
   "cell_type": "code",
   "execution_count": 53,
   "metadata": {},
   "outputs": [
    {
     "data": {
      "text/plain": [
       "matrix([[1, 1, 2, 2],\n",
       "        [1, 1, 2, 2],\n",
       "        [3, 4, 7, 8],\n",
       "        [5, 6, 9, 0]])"
      ]
     },
     "execution_count": 53,
     "metadata": {},
     "output_type": "execute_result"
    }
   ],
   "source": [
    "# 31\n",
    "# numpy.bmat\n",
    "# numpy.bmat(obj, ldict=None, gdict=None)\n",
    "# Build a matrix object from a string, nested sequence, or array.\n",
    "\n",
    "A = np.mat('1 1; 1 1')\n",
    "B = np.mat('2 2; 2 2')\n",
    "C = np.mat('3 4; 5 6')\n",
    "D = np.mat('7 8; 9 0')\n",
    "\n",
    "np.bmat([[A, B], [C, D]])"
   ]
  },
  {
   "cell_type": "code",
   "execution_count": 54,
   "metadata": {},
   "outputs": [
    {
     "data": {
      "text/plain": [
       "matrix([[1, 1, 2, 2],\n",
       "        [1, 1, 2, 2],\n",
       "        [3, 4, 7, 8],\n",
       "        [5, 6, 9, 0]])"
      ]
     },
     "execution_count": 54,
     "metadata": {},
     "output_type": "execute_result"
    }
   ],
   "source": [
    "np.bmat(np.r_[np.c_[A, B], np.c_[C, D]])"
   ]
  },
  {
   "cell_type": "code",
   "execution_count": 55,
   "metadata": {},
   "outputs": [
    {
     "data": {
      "text/plain": [
       "matrix([[1, 1, 2, 2],\n",
       "        [1, 1, 2, 2],\n",
       "        [3, 4, 7, 8],\n",
       "        [5, 6, 9, 0]])"
      ]
     },
     "execution_count": 55,
     "metadata": {},
     "output_type": "execute_result"
    }
   ],
   "source": [
    "np.bmat('A,B; C,D')"
   ]
  },
  {
   "cell_type": "markdown",
   "metadata": {},
   "source": [
    "## Array manipulation routines"
   ]
  },
  {
   "cell_type": "markdown",
   "metadata": {},
   "source": [
    "#### Basic operations"
   ]
  },
  {
   "cell_type": "code",
   "execution_count": 56,
   "metadata": {},
   "outputs": [
    {
     "data": {
      "text/plain": [
       "array([1, 2, 3])"
      ]
     },
     "execution_count": 56,
     "metadata": {},
     "output_type": "execute_result"
    }
   ],
   "source": [
    "# 32\n",
    "# numpy.copyto\n",
    "# numpy.copyto(dst, src, casting='same_kind', where=True)\n",
    "# Copies values from one array to another, broadcasting as necessary.\n",
    "\n",
    "a = np.array([1,2,3])\n",
    "b = np.array([4,5,6])\n",
    "np.copyto(b,a)\n",
    "b"
   ]
  },
  {
   "cell_type": "code",
   "execution_count": 57,
   "metadata": {},
   "outputs": [
    {
     "data": {
      "text/plain": [
       "(3, 3)"
      ]
     },
     "execution_count": 57,
     "metadata": {},
     "output_type": "execute_result"
    }
   ],
   "source": [
    "# 33\n",
    "# numpy.shape\n",
    "# numpy.shape(a)\n",
    "# Return the shape of an array.\n",
    "\n",
    "np.shape(np.eye(3))"
   ]
  },
  {
   "cell_type": "markdown",
   "metadata": {},
   "source": [
    "#### Changing array shape"
   ]
  },
  {
   "cell_type": "code",
   "execution_count": 58,
   "metadata": {},
   "outputs": [
    {
     "name": "stdout",
     "output_type": "stream",
     "text": [
      "[[1 2 3]\n",
      " [4 5 6]]\n"
     ]
    },
    {
     "data": {
      "text/plain": [
       "array([1, 2, 3, 4, 5, 6])"
      ]
     },
     "execution_count": 58,
     "metadata": {},
     "output_type": "execute_result"
    }
   ],
   "source": [
    "# 34\n",
    "# numpy.reshape\n",
    "# numpy.reshape(a, newshape, order='C')\n",
    "# Gives a new shape to an array without changing its data.\n",
    "\n",
    "a = np.array([[1,2,3], [4,5,6]])\n",
    "print(a)\n",
    "np.reshape(a, 6)"
   ]
  },
  {
   "cell_type": "code",
   "execution_count": 59,
   "metadata": {},
   "outputs": [
    {
     "data": {
      "text/plain": [
       "array([1, 2, 3, 4, 5, 6])"
      ]
     },
     "execution_count": 59,
     "metadata": {},
     "output_type": "execute_result"
    }
   ],
   "source": [
    "# 35\n",
    "# numpy.ravel\n",
    "# numpy.ravel(a, order='C')\n",
    "# Return a contiguous flattened array.\n",
    "\n",
    "x = np.array([[1, 2, 3], [4, 5, 6]])\n",
    "np.ravel(x)"
   ]
  },
  {
   "cell_type": "code",
   "execution_count": 60,
   "metadata": {},
   "outputs": [
    {
     "name": "stdout",
     "output_type": "stream",
     "text": [
      "[[1 2 3]\n",
      " [4 5 6]]\n"
     ]
    },
    {
     "data": {
      "text/plain": [
       "4"
      ]
     },
     "execution_count": 60,
     "metadata": {},
     "output_type": "execute_result"
    }
   ],
   "source": [
    "# 36\n",
    "# numpy.ndarray.flat\n",
    "# ndarray.flat\n",
    "# Return a contiguous flattened array.\n",
    "\n",
    "x = np.arange(1, 7).reshape(2, 3)\n",
    "print(x)\n",
    "x.flat[3]"
   ]
  },
  {
   "cell_type": "code",
   "execution_count": 61,
   "metadata": {},
   "outputs": [
    {
     "name": "stdout",
     "output_type": "stream",
     "text": [
      "[[1 4]\n",
      " [2 5]\n",
      " [3 6]]\n"
     ]
    },
    {
     "data": {
      "text/plain": [
       "5"
      ]
     },
     "execution_count": 61,
     "metadata": {},
     "output_type": "execute_result"
    }
   ],
   "source": [
    "print(x.T)\n",
    "x.T.flat[3]"
   ]
  },
  {
   "cell_type": "code",
   "execution_count": 62,
   "metadata": {},
   "outputs": [
    {
     "data": {
      "text/plain": [
       "array([1, 2, 3, 4])"
      ]
     },
     "execution_count": 62,
     "metadata": {},
     "output_type": "execute_result"
    }
   ],
   "source": [
    "# 37\n",
    "# numpy.ndarray.flatten\n",
    "# ndarray.flatten(order='C')\n",
    "# order:{‘C’, ‘F’, ‘A’, ‘K’}, optional\n",
    "\n",
    "a = np.array([[1,2], [3,4]])\n",
    "a.flatten()"
   ]
  },
  {
   "cell_type": "code",
   "execution_count": 63,
   "metadata": {
    "scrolled": true
   },
   "outputs": [
    {
     "data": {
      "text/plain": [
       "array([1, 3, 2, 4])"
      ]
     },
     "execution_count": 63,
     "metadata": {},
     "output_type": "execute_result"
    }
   ],
   "source": [
    "a.flatten('F')"
   ]
  },
  {
   "cell_type": "markdown",
   "metadata": {},
   "source": [
    "#### Transpose-like operations"
   ]
  },
  {
   "cell_type": "code",
   "execution_count": 64,
   "metadata": {},
   "outputs": [
    {
     "data": {
      "text/plain": [
       "(4, 5, 3)"
      ]
     },
     "execution_count": 64,
     "metadata": {},
     "output_type": "execute_result"
    }
   ],
   "source": [
    "# 38\n",
    "# numpy.moveaxis\n",
    "# numpy.moveaxis(a, source, destination)\n",
    "# Move axes of an array to new positions.\n",
    "\n",
    "x = np.zeros((3, 4, 5))\n",
    "np.moveaxis(x, 0, -1).shape"
   ]
  },
  {
   "cell_type": "code",
   "execution_count": 65,
   "metadata": {},
   "outputs": [
    {
     "data": {
      "text/plain": [
       "(5, 3, 4)"
      ]
     },
     "execution_count": 65,
     "metadata": {},
     "output_type": "execute_result"
    }
   ],
   "source": [
    "np.moveaxis(x, -1, 0).shape"
   ]
  },
  {
   "cell_type": "code",
   "execution_count": 66,
   "metadata": {},
   "outputs": [
    {
     "data": {
      "text/plain": [
       "(3, 6, 4, 5)"
      ]
     },
     "execution_count": 66,
     "metadata": {},
     "output_type": "execute_result"
    }
   ],
   "source": [
    "# 39\n",
    "# numpy.rollaxis\n",
    "# numpy.rollaxis(a, axis, start=0)\n",
    "# Roll the specified axis backwards, until it lies in a given position.\n",
    "\n",
    "a = np.ones((3,4,5,6))\n",
    "np.rollaxis(a, 3, 1).shape"
   ]
  },
  {
   "cell_type": "code",
   "execution_count": 67,
   "metadata": {},
   "outputs": [
    {
     "data": {
      "text/plain": [
       "(5, 3, 4, 6)"
      ]
     },
     "execution_count": 67,
     "metadata": {},
     "output_type": "execute_result"
    }
   ],
   "source": [
    "np.rollaxis(a, 2).shape"
   ]
  },
  {
   "cell_type": "code",
   "execution_count": 68,
   "metadata": {},
   "outputs": [
    {
     "data": {
      "text/plain": [
       "(3, 5, 6, 4)"
      ]
     },
     "execution_count": 68,
     "metadata": {},
     "output_type": "execute_result"
    }
   ],
   "source": [
    "np.rollaxis(a, 1, 4).shape"
   ]
  },
  {
   "cell_type": "code",
   "execution_count": 69,
   "metadata": {},
   "outputs": [
    {
     "data": {
      "text/plain": [
       "array([[1],\n",
       "       [2],\n",
       "       [3]])"
      ]
     },
     "execution_count": 69,
     "metadata": {},
     "output_type": "execute_result"
    }
   ],
   "source": [
    "# 40\n",
    "# numpy.swapaxes\n",
    "# numpy.swapaxes(a, axis1, axis2)\n",
    "# Interchange two axes of an array.\n",
    "\n",
    "x = np.array([[1,2,3]])\n",
    "np.swapaxes(x,0,1)"
   ]
  },
  {
   "cell_type": "code",
   "execution_count": 70,
   "metadata": {},
   "outputs": [
    {
     "name": "stdout",
     "output_type": "stream",
     "text": [
      "[[1. 2.]\n",
      " [3. 4.]]\n",
      "[[1. 3.]\n",
      " [2. 4.]]\n"
     ]
    }
   ],
   "source": [
    "# 41\n",
    "# numpy.ndarray.T\n",
    "# ndarray.T\n",
    "# The transposed array.\n",
    "\n",
    "x = np.array([[1.,2.],[3.,4.]])\n",
    "print(x)\n",
    "print(x.T)"
   ]
  },
  {
   "cell_type": "code",
   "execution_count": 71,
   "metadata": {},
   "outputs": [
    {
     "name": "stdout",
     "output_type": "stream",
     "text": [
      "[[0 1]\n",
      " [2 3]]\n"
     ]
    },
    {
     "data": {
      "text/plain": [
       "array([[0, 2],\n",
       "       [1, 3]])"
      ]
     },
     "execution_count": 71,
     "metadata": {},
     "output_type": "execute_result"
    }
   ],
   "source": [
    "# 42\n",
    "# numpy.transpose\n",
    "# numpy.transpose(a, axes=None)\n",
    "# Reverse or permute the axes of an array; returns the modified array.\n",
    "\n",
    "x = np.arange(4).reshape((2,2))\n",
    "print(x)\n",
    "np.transpose(x)"
   ]
  },
  {
   "cell_type": "markdown",
   "metadata": {},
   "source": [
    "#### Changing number of dimensions"
   ]
  },
  {
   "cell_type": "code",
   "execution_count": 72,
   "metadata": {},
   "outputs": [
    {
     "data": {
      "text/plain": [
       "array([[0., 1., 2.],\n",
       "       [3., 4., 5.],\n",
       "       [6., 7., 8.]])"
      ]
     },
     "execution_count": 72,
     "metadata": {},
     "output_type": "execute_result"
    }
   ],
   "source": [
    "# 43\n",
    "# numpy.atleast_1d\n",
    "# numpy.atleast_1d(*arys)\n",
    "# Convert inputs to arrays with at least one dimension.\n",
    "\n",
    "x = np.arange(9.0).reshape(3,3)\n",
    "np.atleast_1d(x)\n",
    "\n",
    "# tambien se usa para 2d y 3d"
   ]
  },
  {
   "cell_type": "code",
   "execution_count": 73,
   "metadata": {},
   "outputs": [
    {
     "data": {
      "text/plain": [
       "array([[5., 6., 7.],\n",
       "       [6., 7., 8.],\n",
       "       [7., 8., 9.]])"
      ]
     },
     "execution_count": 73,
     "metadata": {},
     "output_type": "execute_result"
    }
   ],
   "source": [
    "# 44\n",
    "# numpy.broadcast\n",
    "# class numpy.broadcast\n",
    "# Produce an object that mimics broadcasting.\n",
    "\n",
    "x = np.array([[1], [2], [3]])\n",
    "y = np.array([4, 5, 6])\n",
    "b = np.broadcast(x, y)\n",
    "out = np.empty(b.shape)\n",
    "out.flat = [u+v for (u,v) in b]\n",
    "out"
   ]
  },
  {
   "cell_type": "code",
   "execution_count": 74,
   "metadata": {},
   "outputs": [
    {
     "data": {
      "text/plain": [
       "array([[5, 6, 7],\n",
       "       [6, 7, 8],\n",
       "       [7, 8, 9]])"
      ]
     },
     "execution_count": 74,
     "metadata": {},
     "output_type": "execute_result"
    }
   ],
   "source": [
    "x + y"
   ]
  },
  {
   "cell_type": "code",
   "execution_count": 75,
   "metadata": {},
   "outputs": [
    {
     "data": {
      "text/plain": [
       "array([[1, 2, 3],\n",
       "       [1, 2, 3],\n",
       "       [1, 2, 3]])"
      ]
     },
     "execution_count": 75,
     "metadata": {},
     "output_type": "execute_result"
    }
   ],
   "source": [
    "# 45\n",
    "# numpy.broadcast_to\n",
    "# numpy.broadcast_to(array, shape, subok=False)\n",
    "# Broadcast an array to a new shape.\n",
    "\n",
    "x = np.array([1, 2, 3])\n",
    "np.broadcast_to(x, (3, 3))"
   ]
  },
  {
   "cell_type": "code",
   "execution_count": 76,
   "metadata": {},
   "outputs": [
    {
     "data": {
      "text/plain": [
       "[array([[1, 2, 3],\n",
       "        [1, 2, 3]]), array([[4, 4, 4],\n",
       "        [5, 5, 5]])]"
      ]
     },
     "execution_count": 76,
     "metadata": {},
     "output_type": "execute_result"
    }
   ],
   "source": [
    "# 46\n",
    "# numpy.broadcast_arrays\n",
    "# numpy.broadcast_arrays(*args, subok=False)\n",
    "# Broadcast any number of arrays against each other.\n",
    "\n",
    "x = np.array([[1,2,3]])\n",
    "y = np.array([[4],[5]])\n",
    "np.broadcast_arrays(x, y)"
   ]
  },
  {
   "cell_type": "code",
   "execution_count": 77,
   "metadata": {},
   "outputs": [
    {
     "data": {
      "text/plain": [
       "array([[[1, 2, 3]]])"
      ]
     },
     "execution_count": 77,
     "metadata": {},
     "output_type": "execute_result"
    }
   ],
   "source": [
    "# 47\n",
    "# numpy.expand_dims\n",
    "# numpy.expand_dims(a, axis)\n",
    "# Expand the shape of an array.\n",
    "\n",
    "y = np.expand_dims(x, axis=1)\n",
    "y"
   ]
  },
  {
   "cell_type": "code",
   "execution_count": 78,
   "metadata": {
    "scrolled": true
   },
   "outputs": [
    {
     "name": "stdout",
     "output_type": "stream",
     "text": [
      "(1, 3, 1)\n"
     ]
    },
    {
     "data": {
      "text/plain": [
       "(3, 1)"
      ]
     },
     "execution_count": 78,
     "metadata": {},
     "output_type": "execute_result"
    }
   ],
   "source": [
    "# 48\n",
    "# numpy.squeeze\n",
    "# numpy.squeeze(a, axis=None)\n",
    "# Remove single-dimensional entries from the shape of an array.\n",
    "\n",
    "x = np.array([[[0], [1], [2]]])\n",
    "print(x.shape)\n",
    "np.squeeze(x).shape\n",
    "np.squeeze(x, axis=0).shape"
   ]
  },
  {
   "cell_type": "markdown",
   "metadata": {},
   "source": [
    "#### Changing kind of array"
   ]
  },
  {
   "cell_type": "code",
   "execution_count": 79,
   "metadata": {},
   "outputs": [
    {
     "data": {
      "text/plain": [
       "array([2., 3.])"
      ]
     },
     "execution_count": 79,
     "metadata": {},
     "output_type": "execute_result"
    }
   ],
   "source": [
    "# 49\n",
    "# numpy.asfarray\n",
    "# numpy.asfarray(a, dtype=<class 'numpy.float64'>)\n",
    "# Return an array converted to a float type.\n",
    "\n",
    "np.asfarray([2, 3])\n",
    "np.asfarray([2, 3], dtype='float')\n",
    "np.asfarray([2, 3], dtype='int8')"
   ]
  },
  {
   "cell_type": "code",
   "execution_count": 80,
   "metadata": {},
   "outputs": [
    {
     "data": {
      "text/plain": [
       "24"
      ]
     },
     "execution_count": 80,
     "metadata": {},
     "output_type": "execute_result"
    }
   ],
   "source": [
    "# 50\n",
    "# numpy.asscalar\n",
    "# numpy.asscalar(a)\n",
    "# Convert an array of size 1 to its scalar equivalent.\n",
    "\n",
    "np.asscalar(np.array([24]))"
   ]
  },
  {
   "cell_type": "code",
   "execution_count": 81,
   "metadata": {},
   "outputs": [
    {
     "data": {
      "text/plain": [
       "  C_CONTIGUOUS : True\n",
       "  F_CONTIGUOUS : False\n",
       "  OWNDATA : False\n",
       "  WRITEABLE : True\n",
       "  ALIGNED : True\n",
       "  WRITEBACKIFCOPY : False\n",
       "  UPDATEIFCOPY : False"
      ]
     },
     "execution_count": 81,
     "metadata": {},
     "output_type": "execute_result"
    }
   ],
   "source": [
    "# 51\n",
    "# numpy.require\n",
    "# numpy.require(a, dtype=None, requirements=None)\n",
    "# Return an ndarray of the provided type that satisfies requirements.\n",
    "\n",
    "x = np.arange(6).reshape(2,3)\n",
    "x.flags"
   ]
  },
  {
   "cell_type": "markdown",
   "metadata": {},
   "source": [
    "#### Joining arrays"
   ]
  },
  {
   "cell_type": "code",
   "execution_count": 82,
   "metadata": {},
   "outputs": [
    {
     "data": {
      "text/plain": [
       "array([[1, 2],\n",
       "       [3, 4],\n",
       "       [5, 6]])"
      ]
     },
     "execution_count": 82,
     "metadata": {},
     "output_type": "execute_result"
    }
   ],
   "source": [
    "# 52\n",
    "# numpy.concatenate\n",
    "# numpy.concatenate((a1, a2, ...), axis=0, out=None)\n",
    "# Join a sequence of arrays along an existing axis.\n",
    "\n",
    "a = np.array([[1, 2], [3, 4]])\n",
    "b = np.array([[5, 6]])\n",
    "np.concatenate((a, b), axis=0)"
   ]
  },
  {
   "cell_type": "code",
   "execution_count": 83,
   "metadata": {},
   "outputs": [
    {
     "data": {
      "text/plain": [
       "array([[1, 2, 3],\n",
       "       [2, 3, 4]])"
      ]
     },
     "execution_count": 83,
     "metadata": {},
     "output_type": "execute_result"
    }
   ],
   "source": [
    "# 53\n",
    "# numpy.stack\n",
    "# numpy.stack(arrays, axis=0, out=None)\n",
    "# Join a sequence of arrays along a new axis.\n",
    "\n",
    "a = np.array([1, 2, 3])\n",
    "b = np.array([2, 3, 4])\n",
    "np.stack((a, b))"
   ]
  },
  {
   "cell_type": "code",
   "execution_count": 84,
   "metadata": {},
   "outputs": [
    {
     "data": {
      "text/plain": [
       "array([[1, 2],\n",
       "       [2, 3],\n",
       "       [3, 4]])"
      ]
     },
     "execution_count": 84,
     "metadata": {},
     "output_type": "execute_result"
    }
   ],
   "source": [
    "# 54\n",
    "# numpy.column_stack\n",
    "# numpy.column_stack(tup)\n",
    "# Stack 1-D arrays as columns into a 2-D array.\n",
    "\n",
    "a = np.array((1,2,3))\n",
    "b = np.array((2,3,4))\n",
    "np.column_stack((a,b))"
   ]
  },
  {
   "cell_type": "code",
   "execution_count": 85,
   "metadata": {},
   "outputs": [
    {
     "data": {
      "text/plain": [
       "array([[[1, 2],\n",
       "        [2, 3],\n",
       "        [3, 4]]])"
      ]
     },
     "execution_count": 85,
     "metadata": {},
     "output_type": "execute_result"
    }
   ],
   "source": [
    "# 55\n",
    "# numpy.dstack\n",
    "# numpy.dstack(tup)\n",
    "# Stack arrays in sequence depth wise (along third axis).\n",
    "\n",
    "a = np.array((1,2,3))\n",
    "b = np.array((2,3,4))\n",
    "np.dstack((a,b))"
   ]
  },
  {
   "cell_type": "code",
   "execution_count": 86,
   "metadata": {},
   "outputs": [
    {
     "data": {
      "text/plain": [
       "array([[1, 2],\n",
       "       [2, 3],\n",
       "       [3, 4]])"
      ]
     },
     "execution_count": 86,
     "metadata": {},
     "output_type": "execute_result"
    }
   ],
   "source": [
    "# 56\n",
    "# numpy.hstack\n",
    "# numpy.hstack(tup)\n",
    "# Stack arrays in sequence horizontally (column wise).\n",
    "\n",
    "a = np.array([[1],[2],[3]])\n",
    "b = np.array([[2],[3],[4]])\n",
    "np.hstack((a,b))"
   ]
  },
  {
   "cell_type": "code",
   "execution_count": 87,
   "metadata": {},
   "outputs": [
    {
     "data": {
      "text/plain": [
       "array([[1, 2, 3],\n",
       "       [2, 3, 4]])"
      ]
     },
     "execution_count": 87,
     "metadata": {},
     "output_type": "execute_result"
    }
   ],
   "source": [
    "# 57\n",
    "# numpy.vstack\n",
    "# numpy.vstack(tup)\n",
    "# Stack arrays in sequence vertically (row wise).\n",
    "\n",
    "a = np.array([1, 2, 3])\n",
    "b = np.array([2, 3, 4])\n",
    "np.vstack((a,b))"
   ]
  },
  {
   "cell_type": "code",
   "execution_count": 88,
   "metadata": {},
   "outputs": [
    {
     "data": {
      "text/plain": [
       "array([[1],\n",
       "       [2],\n",
       "       [3],\n",
       "       [2],\n",
       "       [3],\n",
       "       [4]])"
      ]
     },
     "execution_count": 88,
     "metadata": {},
     "output_type": "execute_result"
    }
   ],
   "source": [
    "a = np.array([[1], [2], [3]])\n",
    "b = np.array([[2], [3], [4]])\n",
    "np.vstack((a,b))"
   ]
  },
  {
   "cell_type": "code",
   "execution_count": 89,
   "metadata": {
    "scrolled": true
   },
   "outputs": [
    {
     "data": {
      "text/plain": [
       "array([[2., 0., 0., 0., 0.],\n",
       "       [0., 2., 0., 0., 0.],\n",
       "       [1., 1., 3., 0., 0.],\n",
       "       [1., 1., 0., 3., 0.],\n",
       "       [1., 1., 0., 0., 3.]])"
      ]
     },
     "execution_count": 89,
     "metadata": {},
     "output_type": "execute_result"
    }
   ],
   "source": [
    "# 58\n",
    "# numpy.block\n",
    "# numpy.block(arrays)\n",
    "# Assemble an nd-array from nested lists of blocks.\n",
    "\n",
    "A = np.eye(2) * 2\n",
    "B = np.eye(3) * 3\n",
    "np.block([[A,np.zeros((2, 3))],[np.ones((3, 2)), B]])"
   ]
  },
  {
   "cell_type": "markdown",
   "metadata": {},
   "source": [
    "#### Splitting arrays"
   ]
  },
  {
   "cell_type": "code",
   "execution_count": 90,
   "metadata": {},
   "outputs": [
    {
     "data": {
      "text/plain": [
       "[array([0., 1., 2.]), array([3., 4., 5.]), array([6., 7., 8.])]"
      ]
     },
     "execution_count": 90,
     "metadata": {},
     "output_type": "execute_result"
    }
   ],
   "source": [
    "# 59\n",
    "# numpy.split\n",
    "# numpy.split(ary, indices_or_sections, axis=0)\n",
    "# Split an array into multiple sub-arrays as views into ary.\n",
    "\n",
    "x = np.arange(9.0)\n",
    "np.split(x, 3)"
   ]
  },
  {
   "cell_type": "code",
   "execution_count": 91,
   "metadata": {},
   "outputs": [
    {
     "data": {
      "text/plain": [
       "[array([0., 1., 2.]), array([3., 4., 5.]), array([6., 7.])]"
      ]
     },
     "execution_count": 91,
     "metadata": {},
     "output_type": "execute_result"
    }
   ],
   "source": [
    "# 61\n",
    "# numpy.array_split\n",
    "# numpy.array_split(ary, indices_or_sections, axis=0)\n",
    "# Split an array into multiple sub-arrays.\n",
    "\n",
    "x = np.arange(8.0)\n",
    "np.array_split(x, 3)"
   ]
  },
  {
   "cell_type": "code",
   "execution_count": 92,
   "metadata": {},
   "outputs": [
    {
     "data": {
      "text/plain": [
       "[array([[[ 0.,  1.,  2.],\n",
       "         [ 4.,  5.,  6.]],\n",
       " \n",
       "        [[ 8.,  9., 10.],\n",
       "         [12., 13., 14.]]]), array([[[ 3.],\n",
       "         [ 7.]],\n",
       " \n",
       "        [[11.],\n",
       "         [15.]]]), array([], shape=(2, 2, 0), dtype=float64)]"
      ]
     },
     "execution_count": 92,
     "metadata": {},
     "output_type": "execute_result"
    }
   ],
   "source": [
    "# 62\n",
    "# numpy.dsplit\n",
    "# numpy.dsplit(ary, indices_or_sections)\n",
    "# Split array into multiple sub-arrays along the 3rd axis (depth).\n",
    "\n",
    "x = np.arange(16.0).reshape(2, 2, 4)\n",
    "np.dsplit(x, 2)\n",
    "np.dsplit(x, np.array([3, 6]))"
   ]
  },
  {
   "cell_type": "code",
   "execution_count": 93,
   "metadata": {},
   "outputs": [
    {
     "data": {
      "text/plain": [
       "[array([[ 0.,  1.,  2.],\n",
       "        [ 4.,  5.,  6.],\n",
       "        [ 8.,  9., 10.],\n",
       "        [12., 13., 14.]]), array([[ 3.],\n",
       "        [ 7.],\n",
       "        [11.],\n",
       "        [15.]]), array([], shape=(4, 0), dtype=float64)]"
      ]
     },
     "execution_count": 93,
     "metadata": {},
     "output_type": "execute_result"
    }
   ],
   "source": [
    "# 63\n",
    "# numpy.hsplit\n",
    "# numpy.hsplit(ary, indices_or_sections)\n",
    "# Split an array into multiple sub-arrays horizontally (column-wise).\n",
    "\n",
    "x = np.arange(16.0).reshape(4, 4)\n",
    "np.hsplit(x, 2)\n",
    "np.hsplit(x, np.array([3, 6]))"
   ]
  },
  {
   "cell_type": "code",
   "execution_count": 94,
   "metadata": {},
   "outputs": [
    {
     "data": {
      "text/plain": [
       "[array([[ 0.,  1.,  2.,  3.],\n",
       "        [ 4.,  5.,  6.,  7.],\n",
       "        [ 8.,  9., 10., 11.]]),\n",
       " array([[12., 13., 14., 15.]]),\n",
       " array([], shape=(0, 4), dtype=float64)]"
      ]
     },
     "execution_count": 94,
     "metadata": {},
     "output_type": "execute_result"
    }
   ],
   "source": [
    "# 64\n",
    "# numpy.vsplit\n",
    "# numpy.vsplit(ary, indices_or_sections)\n",
    "# Split an array into multiple sub-arrays vertically (row-wise).\n",
    "\n",
    "x = np.arange(16.0).reshape(4, 4)\n",
    "np.vsplit(x, 2)\n",
    "np.vsplit(x, np.array([3, 6]))"
   ]
  },
  {
   "cell_type": "markdown",
   "metadata": {},
   "source": [
    "#### Tiling arrays"
   ]
  },
  {
   "cell_type": "code",
   "execution_count": 95,
   "metadata": {},
   "outputs": [
    {
     "data": {
      "text/plain": [
       "array([0, 1, 2, 0, 1, 2, 0, 1, 2, 0, 1, 2, 0, 1, 2])"
      ]
     },
     "execution_count": 95,
     "metadata": {},
     "output_type": "execute_result"
    }
   ],
   "source": [
    "# 65\n",
    "# numpy.tile\n",
    "# numpy.tile(A, reps)\n",
    "# Construct an array by repeating A the number of times given by reps.\n",
    "\n",
    "a = np.array([0, 1, 2])\n",
    "np.tile(a, 5)"
   ]
  },
  {
   "cell_type": "code",
   "execution_count": 96,
   "metadata": {},
   "outputs": [
    {
     "data": {
      "text/plain": [
       "array([3, 3, 3, 3])"
      ]
     },
     "execution_count": 96,
     "metadata": {},
     "output_type": "execute_result"
    }
   ],
   "source": [
    "# 66\n",
    "# numpy.repeat\n",
    "# numpy.repeat(a, repeats, axis=None)\n",
    "# Repeat elements of an array.\n",
    "\n",
    "np.repeat(3, 4)"
   ]
  },
  {
   "cell_type": "code",
   "execution_count": 97,
   "metadata": {},
   "outputs": [
    {
     "data": {
      "text/plain": [
       "array([1, 1, 2, 2, 3, 3, 4, 4])"
      ]
     },
     "execution_count": 97,
     "metadata": {},
     "output_type": "execute_result"
    }
   ],
   "source": [
    "x = np.array([[1,2],[3,4]])\n",
    "np.repeat(x, 2)"
   ]
  },
  {
   "cell_type": "code",
   "execution_count": 98,
   "metadata": {},
   "outputs": [
    {
     "data": {
      "text/plain": [
       "array([[1, 1, 1, 2, 2, 2],\n",
       "       [3, 3, 3, 4, 4, 4]])"
      ]
     },
     "execution_count": 98,
     "metadata": {},
     "output_type": "execute_result"
    }
   ],
   "source": [
    "np.repeat(x, 3, axis=1)"
   ]
  },
  {
   "cell_type": "code",
   "execution_count": 99,
   "metadata": {
    "scrolled": true
   },
   "outputs": [
    {
     "data": {
      "text/plain": [
       "array([[1, 2],\n",
       "       [3, 4],\n",
       "       [3, 4]])"
      ]
     },
     "execution_count": 99,
     "metadata": {},
     "output_type": "execute_result"
    }
   ],
   "source": [
    "np.repeat(x, [1, 2], axis=0)"
   ]
  },
  {
   "cell_type": "markdown",
   "metadata": {},
   "source": [
    "#### Adding and removing elements"
   ]
  },
  {
   "cell_type": "code",
   "execution_count": 100,
   "metadata": {},
   "outputs": [
    {
     "name": "stdout",
     "output_type": "stream",
     "text": [
      "[[ 1  2  3  4]\n",
      " [ 5  6  7  8]\n",
      " [ 9 10 11 12]]\n"
     ]
    },
    {
     "data": {
      "text/plain": [
       "array([[ 1,  2,  3,  4],\n",
       "       [ 9, 10, 11, 12]])"
      ]
     },
     "execution_count": 100,
     "metadata": {},
     "output_type": "execute_result"
    }
   ],
   "source": [
    "# 67\n",
    "# numpy.delete\n",
    "# numpy.delete(arr, obj, axis=None)\n",
    "# Return a new array with sub-arrays along an axis deleted. \n",
    "# For a one dimensional array, this returns those entries not returned by arr[obj].\n",
    "\n",
    "arr = np.array([[1,2,3,4], [5,6,7,8], [9,10,11,12]])\n",
    "print(arr)\n",
    "np.delete(arr, 1, 0)"
   ]
  },
  {
   "cell_type": "code",
   "execution_count": 101,
   "metadata": {},
   "outputs": [
    {
     "name": "stdout",
     "output_type": "stream",
     "text": [
      "[[1 1]\n",
      " [2 2]\n",
      " [3 3]]\n"
     ]
    },
    {
     "data": {
      "text/plain": [
       "array([1, 5, 1, 2, 2, 3, 3])"
      ]
     },
     "execution_count": 101,
     "metadata": {},
     "output_type": "execute_result"
    }
   ],
   "source": [
    "# 68\n",
    "# numpy.insert\n",
    "# numpy.insert(arr, obj, values, axis=None)\n",
    "# Insert values along the given axis before the given indices.\n",
    "\n",
    "a = np.array([[1, 1], [2, 2], [3, 3]])\n",
    "print(a)\n",
    "np.insert(a, 1, 5)"
   ]
  },
  {
   "cell_type": "code",
   "execution_count": 102,
   "metadata": {},
   "outputs": [
    {
     "data": {
      "text/plain": [
       "array([[1, 5, 1],\n",
       "       [2, 5, 2],\n",
       "       [3, 5, 3]])"
      ]
     },
     "execution_count": 102,
     "metadata": {},
     "output_type": "execute_result"
    }
   ],
   "source": [
    "np.insert(a, 1, 5, axis=1)"
   ]
  },
  {
   "cell_type": "code",
   "execution_count": 103,
   "metadata": {},
   "outputs": [
    {
     "data": {
      "text/plain": [
       "array([1, 2, 3, 4, 5, 6, 7, 8, 9])"
      ]
     },
     "execution_count": 103,
     "metadata": {},
     "output_type": "execute_result"
    }
   ],
   "source": [
    "# 69\n",
    "# numpy.append\n",
    "# numpy.append(arr, values, axis=None)\n",
    "# Append values to the end of an array.\n",
    "\n",
    "np.append([1, 2, 3], [[4, 5, 6], [7, 8, 9]])"
   ]
  },
  {
   "cell_type": "code",
   "execution_count": 104,
   "metadata": {},
   "outputs": [
    {
     "data": {
      "text/plain": [
       "array([[0, 1, 2],\n",
       "       [3, 0, 1]])"
      ]
     },
     "execution_count": 104,
     "metadata": {},
     "output_type": "execute_result"
    }
   ],
   "source": [
    "# 70\n",
    "# numpy.resize\n",
    "# numpy.resize(a, new_shape)\n",
    "# Return a new array with the specified shape.\n",
    "\n",
    "a=np.array([[0,1],[2,3]])\n",
    "np.resize(a,(2,3))"
   ]
  },
  {
   "cell_type": "code",
   "execution_count": 105,
   "metadata": {},
   "outputs": [
    {
     "data": {
      "text/plain": [
       "array([1, 2, 3, 0, 2, 1])"
      ]
     },
     "execution_count": 105,
     "metadata": {},
     "output_type": "execute_result"
    }
   ],
   "source": [
    "# 71\n",
    "# numpy.trim_zeros\n",
    "# numpy.trim_zeros(filt, trim='fb')\n",
    "# Trim the leading and/or trailing zeros from a 1-D array or sequence.\n",
    "\n",
    "a = np.array((0, 0, 0, 1, 2, 3, 0, 2, 1, 0))\n",
    "np.trim_zeros(a)"
   ]
  },
  {
   "cell_type": "code",
   "execution_count": 106,
   "metadata": {},
   "outputs": [
    {
     "data": {
      "text/plain": [
       "array([1, 2, 3])"
      ]
     },
     "execution_count": 106,
     "metadata": {},
     "output_type": "execute_result"
    }
   ],
   "source": [
    "# 72\n",
    "# numpy.unique\n",
    "# numpy.unique(ar, return_index=False, return_inverse=False, \n",
    "# return_counts=False, axis=None)\n",
    "# Find the unique elements of an array.\n",
    "\n",
    "np.unique([1, 1, 2, 2, 3, 3])"
   ]
  },
  {
   "cell_type": "code",
   "execution_count": 107,
   "metadata": {},
   "outputs": [
    {
     "data": {
      "text/plain": [
       "array([1, 2, 3])"
      ]
     },
     "execution_count": 107,
     "metadata": {},
     "output_type": "execute_result"
    }
   ],
   "source": [
    "a = np.array([[1, 1], [2, 3]])\n",
    "np.unique(a)"
   ]
  },
  {
   "cell_type": "markdown",
   "metadata": {},
   "source": [
    "#### Rearranging elements"
   ]
  },
  {
   "cell_type": "code",
   "execution_count": 108,
   "metadata": {},
   "outputs": [
    {
     "name": "stdout",
     "output_type": "stream",
     "text": [
      "[[[0 1]\n",
      "  [2 3]]\n",
      "\n",
      " [[4 5]\n",
      "  [6 7]]]\n"
     ]
    },
    {
     "data": {
      "text/plain": [
       "array([[[4, 5],\n",
       "        [6, 7]],\n",
       "\n",
       "       [[0, 1],\n",
       "        [2, 3]]])"
      ]
     },
     "execution_count": 108,
     "metadata": {},
     "output_type": "execute_result"
    }
   ],
   "source": [
    "# 73\n",
    "# numpy.flip\n",
    "# numpy.flip(m, axis=None)\n",
    "# Reverse the order of elements in an array along the given axis.\n",
    "\n",
    "A = np.arange(8).reshape((2,2,2))\n",
    "print(A)\n",
    "np.flip(A, 0)"
   ]
  },
  {
   "cell_type": "code",
   "execution_count": 109,
   "metadata": {},
   "outputs": [
    {
     "data": {
      "text/plain": [
       "array([[[2, 3],\n",
       "        [0, 1]],\n",
       "\n",
       "       [[6, 7],\n",
       "        [4, 5]]])"
      ]
     },
     "execution_count": 109,
     "metadata": {},
     "output_type": "execute_result"
    }
   ],
   "source": [
    "np.flip(A, 1)"
   ]
  },
  {
   "cell_type": "code",
   "execution_count": 110,
   "metadata": {
    "scrolled": true
   },
   "outputs": [
    {
     "data": {
      "text/plain": [
       "array([[[7, 6],\n",
       "        [5, 4]],\n",
       "\n",
       "       [[3, 2],\n",
       "        [1, 0]]])"
      ]
     },
     "execution_count": 110,
     "metadata": {},
     "output_type": "execute_result"
    }
   ],
   "source": [
    "np.flip(A)"
   ]
  },
  {
   "cell_type": "code",
   "execution_count": 111,
   "metadata": {},
   "outputs": [
    {
     "name": "stdout",
     "output_type": "stream",
     "text": [
      "[[1. 0. 0.]\n",
      " [0. 2. 0.]\n",
      " [0. 0. 3.]]\n"
     ]
    },
    {
     "data": {
      "text/plain": [
       "array([[0., 0., 1.],\n",
       "       [0., 2., 0.],\n",
       "       [3., 0., 0.]])"
      ]
     },
     "execution_count": 111,
     "metadata": {},
     "output_type": "execute_result"
    }
   ],
   "source": [
    "# 74\n",
    "# numpy.fliplr\n",
    "# numpy.fliplr(m)\n",
    "# Flip array in the left/right direction.\n",
    "\n",
    "A = np.diag([1.,2.,3.])\n",
    "print(A)\n",
    "np.fliplr(A)"
   ]
  },
  {
   "cell_type": "code",
   "execution_count": 112,
   "metadata": {},
   "outputs": [
    {
     "name": "stdout",
     "output_type": "stream",
     "text": [
      "[[1. 0. 0.]\n",
      " [0. 2. 0.]\n",
      " [0. 0. 3.]]\n"
     ]
    },
    {
     "data": {
      "text/plain": [
       "array([[0., 0., 3.],\n",
       "       [0., 2., 0.],\n",
       "       [1., 0., 0.]])"
      ]
     },
     "execution_count": 112,
     "metadata": {},
     "output_type": "execute_result"
    }
   ],
   "source": [
    "# 75\n",
    "# numpy.flipud\n",
    "# numpy.flipud(m)\n",
    "# Flip array in the up/down direction.\n",
    "\n",
    "A = np.diag([1.0, 2, 3])\n",
    "print(A)\n",
    "np.flipud(A)"
   ]
  },
  {
   "cell_type": "code",
   "execution_count": 113,
   "metadata": {},
   "outputs": [
    {
     "name": "stdout",
     "output_type": "stream",
     "text": [
      "[0 1 2 3 4 5 6 7 8 9]\n"
     ]
    },
    {
     "data": {
      "text/plain": [
       "array([2, 3, 4, 5, 6, 7, 8, 9, 0, 1])"
      ]
     },
     "execution_count": 113,
     "metadata": {},
     "output_type": "execute_result"
    }
   ],
   "source": [
    "# 76\n",
    "# numpy.roll\n",
    "# numpy.roll(a, shift, axis=None)\n",
    "# Roll array elements along a given axis.\n",
    "\n",
    "x = np.arange(10)\n",
    "print(x)\n",
    "np.roll(x, 2)\n",
    "np.roll(x, -2)"
   ]
  },
  {
   "cell_type": "code",
   "execution_count": 114,
   "metadata": {},
   "outputs": [
    {
     "name": "stdout",
     "output_type": "stream",
     "text": [
      "[[1 2]\n",
      " [3 4]]\n"
     ]
    },
    {
     "data": {
      "text/plain": [
       "array([[2, 4],\n",
       "       [1, 3]])"
      ]
     },
     "execution_count": 114,
     "metadata": {},
     "output_type": "execute_result"
    }
   ],
   "source": [
    "# 77\n",
    "# numpy.rot90\n",
    "# numpy.rot90(m, k=1, axes=(0, 1))\n",
    "# Rotate an array by 90 degrees in the plane specified by axes.\n",
    "\n",
    "m = np.array([[1,2],[3,4]], int)\n",
    "print(m)\n",
    "np.rot90(m)"
   ]
  },
  {
   "cell_type": "markdown",
   "metadata": {},
   "source": [
    "## Binary operations"
   ]
  },
  {
   "cell_type": "markdown",
   "metadata": {},
   "source": [
    "#### Elementwise bit operations"
   ]
  },
  {
   "cell_type": "code",
   "execution_count": 115,
   "metadata": {},
   "outputs": [
    {
     "data": {
      "text/plain": [
       "12"
      ]
     },
     "execution_count": 115,
     "metadata": {},
     "output_type": "execute_result"
    }
   ],
   "source": [
    "# 78\n",
    "# numpy.bitwise_and\n",
    "# numpy.bitwise_and(x1, x2, /, out=None, *, where=True, casting='same_kind', \n",
    "# order='K', dtype=None, subok=True[, signature, extobj]) = <ufunc 'bitwise_and'>\n",
    "# Compute the bit-wise AND of two arrays element-wise.\n",
    "\n",
    "np.bitwise_and(14, 13)"
   ]
  },
  {
   "cell_type": "code",
   "execution_count": 116,
   "metadata": {},
   "outputs": [
    {
     "data": {
      "text/plain": [
       "'1100'"
      ]
     },
     "execution_count": 116,
     "metadata": {},
     "output_type": "execute_result"
    }
   ],
   "source": [
    "np.binary_repr(12)"
   ]
  },
  {
   "cell_type": "code",
   "execution_count": 117,
   "metadata": {},
   "outputs": [
    {
     "data": {
      "text/plain": [
       "array([12,  1], dtype=int32)"
      ]
     },
     "execution_count": 117,
     "metadata": {},
     "output_type": "execute_result"
    }
   ],
   "source": [
    "np.bitwise_and([14,3], 13)"
   ]
  },
  {
   "cell_type": "code",
   "execution_count": 118,
   "metadata": {},
   "outputs": [
    {
     "data": {
      "text/plain": [
       "34"
      ]
     },
     "execution_count": 118,
     "metadata": {},
     "output_type": "execute_result"
    }
   ],
   "source": [
    "# 79\n",
    "# numpy.bitwise_or\n",
    "# numpy.bitwise_or(x1, x2, /, out=None, *, where=True, casting='same_kind', \n",
    "# order='K', dtype=None, subok=True[, signature, extobj]) = <ufunc 'bitwise_or'>\n",
    "# Compute the bit-wise OR of two arrays element-wise.\n",
    "\n",
    "np.bitwise_or(32, 2)"
   ]
  },
  {
   "cell_type": "code",
   "execution_count": 119,
   "metadata": {},
   "outputs": [
    {
     "data": {
      "text/plain": [
       "array([33,  5], dtype=int32)"
      ]
     },
     "execution_count": 119,
     "metadata": {},
     "output_type": "execute_result"
    }
   ],
   "source": [
    "np.bitwise_or([33, 4], 1)"
   ]
  },
  {
   "cell_type": "code",
   "execution_count": 120,
   "metadata": {},
   "outputs": [
    {
     "data": {
      "text/plain": [
       "array([33,  6], dtype=int32)"
      ]
     },
     "execution_count": 120,
     "metadata": {},
     "output_type": "execute_result"
    }
   ],
   "source": [
    "np.bitwise_or([33, 4], [1, 2])"
   ]
  },
  {
   "cell_type": "code",
   "execution_count": 121,
   "metadata": {},
   "outputs": [
    {
     "data": {
      "text/plain": [
       "'11100'"
      ]
     },
     "execution_count": 121,
     "metadata": {},
     "output_type": "execute_result"
    }
   ],
   "source": [
    "# 80\n",
    "# numpy.bitwise_xor\n",
    "# numpy.bitwise_xor(x1, x2, /, out=None, *, where=True, casting='same_kind', \n",
    "# order='K', dtype=None, subok=True[, signature, extobj]) = <ufunc 'bitwise_xor'>\n",
    "# Compute the bit-wise XOR of two arrays element-wise.\n",
    "\n",
    "np.bitwise_xor(13, 17)\n",
    "np.binary_repr(28)"
   ]
  },
  {
   "cell_type": "code",
   "execution_count": 122,
   "metadata": {},
   "outputs": [
    {
     "data": {
      "text/plain": [
       "'11110010'"
      ]
     },
     "execution_count": 122,
     "metadata": {},
     "output_type": "execute_result"
    }
   ],
   "source": [
    "# 81\n",
    "# numpy.invert\n",
    "# numpy.invert(x, /, out=None, *, where=True, casting='same_kind', order='K', \n",
    "# dtype=None, subok=True[, signature, extobj]) = <ufunc 'invert'>\n",
    "# Compute bit-wise inversion, or bit-wise NOT, element-wise.\n",
    "\n",
    "x = np.invert(np.array(13, dtype=np.uint8))\n",
    "np.binary_repr(x, width=8)"
   ]
  },
  {
   "cell_type": "code",
   "execution_count": 123,
   "metadata": {},
   "outputs": [
    {
     "data": {
      "text/plain": [
       "'101'"
      ]
     },
     "execution_count": 123,
     "metadata": {},
     "output_type": "execute_result"
    }
   ],
   "source": [
    "# 82\n",
    "# numpy.left_shift\n",
    "# numpy.left_shift(x1, x2, /, out=None, *, where=True, casting='same_kind', \n",
    "# order='K', dtype=None, subok=True[, signature, extobj]) = <ufunc 'left_shift'>\n",
    "# Shift the bits of an integer to the left.\n",
    "\n",
    "np.binary_repr(5)"
   ]
  },
  {
   "cell_type": "code",
   "execution_count": 124,
   "metadata": {},
   "outputs": [
    {
     "data": {
      "text/plain": [
       "20"
      ]
     },
     "execution_count": 124,
     "metadata": {},
     "output_type": "execute_result"
    }
   ],
   "source": [
    "np.left_shift(5, 2)"
   ]
  },
  {
   "cell_type": "code",
   "execution_count": 125,
   "metadata": {},
   "outputs": [
    {
     "data": {
      "text/plain": [
       "'10100'"
      ]
     },
     "execution_count": 125,
     "metadata": {},
     "output_type": "execute_result"
    }
   ],
   "source": [
    "np.binary_repr(20)"
   ]
  },
  {
   "cell_type": "code",
   "execution_count": 126,
   "metadata": {},
   "outputs": [
    {
     "data": {
      "text/plain": [
       "'1010'"
      ]
     },
     "execution_count": 126,
     "metadata": {},
     "output_type": "execute_result"
    }
   ],
   "source": [
    "# 83\n",
    "# numpy.right_shift\n",
    "# numpy.right_shift(x1, x2, /, out=None, *, where=True, casting='same_kind', \n",
    "# order='K', dtype=None, subok=True[, signature, extobj]) = <ufunc 'right_shift'>\n",
    "# Shift the bits of an integer to the right.\n",
    "\n",
    "np.binary_repr(10)"
   ]
  },
  {
   "cell_type": "code",
   "execution_count": 127,
   "metadata": {},
   "outputs": [
    {
     "data": {
      "text/plain": [
       "5"
      ]
     },
     "execution_count": 127,
     "metadata": {},
     "output_type": "execute_result"
    }
   ],
   "source": [
    "np.right_shift(10, 1)"
   ]
  },
  {
   "cell_type": "code",
   "execution_count": 128,
   "metadata": {},
   "outputs": [
    {
     "data": {
      "text/plain": [
       "'101'"
      ]
     },
     "execution_count": 128,
     "metadata": {},
     "output_type": "execute_result"
    }
   ],
   "source": [
    "np.binary_repr(5)"
   ]
  },
  {
   "cell_type": "markdown",
   "metadata": {},
   "source": [
    "#### Bit packing"
   ]
  },
  {
   "cell_type": "code",
   "execution_count": 129,
   "metadata": {},
   "outputs": [
    {
     "data": {
      "text/plain": [
       "array([[[160],\n",
       "        [ 64]],\n",
       "\n",
       "       [[192],\n",
       "        [ 32]]], dtype=uint8)"
      ]
     },
     "execution_count": 129,
     "metadata": {},
     "output_type": "execute_result"
    }
   ],
   "source": [
    "# 84\n",
    "# numpy.packbits\n",
    "# numpy.packbits(a, axis=None, bitorder='big')\n",
    "# Packs the elements of a binary-valued array into bits in a uint8 array.\n",
    "\n",
    "a = np.array([[[1,0,1],[0,1,0]],[[1,1,0],[0,0,1]]])\n",
    "b = np.packbits(a, axis=-1)\n",
    "b"
   ]
  },
  {
   "cell_type": "code",
   "execution_count": 130,
   "metadata": {},
   "outputs": [
    {
     "data": {
      "text/plain": [
       "array([[ 2],\n",
       "       [ 7],\n",
       "       [23]], dtype=uint8)"
      ]
     },
     "execution_count": 130,
     "metadata": {},
     "output_type": "execute_result"
    }
   ],
   "source": [
    "# 85\n",
    "# numpy.unpackbits\n",
    "# numpy.unpackbits(a, axis=None, count=None, bitorder='big')\n",
    "# Unpacks elements of a uint8 array into a binary-valued output array.\n",
    "\n",
    "a = np.array([[2], [7], [23]], dtype=np.uint8)\n",
    "a"
   ]
  },
  {
   "cell_type": "code",
   "execution_count": 131,
   "metadata": {
    "scrolled": true
   },
   "outputs": [
    {
     "data": {
      "text/plain": [
       "array([[0, 0, 0, 0, 0, 0, 1, 0],\n",
       "       [0, 0, 0, 0, 0, 1, 1, 1],\n",
       "       [0, 0, 0, 1, 0, 1, 1, 1]], dtype=uint8)"
      ]
     },
     "execution_count": 131,
     "metadata": {},
     "output_type": "execute_result"
    }
   ],
   "source": [
    "b = np.unpackbits(a, axis=1)\n",
    "b"
   ]
  },
  {
   "cell_type": "markdown",
   "metadata": {},
   "source": [
    "#### Output formatting"
   ]
  },
  {
   "cell_type": "code",
   "execution_count": 132,
   "metadata": {},
   "outputs": [
    {
     "data": {
      "text/plain": [
       "'11'"
      ]
     },
     "execution_count": 132,
     "metadata": {},
     "output_type": "execute_result"
    }
   ],
   "source": [
    "# 86\n",
    "# numpy.binary_repr\n",
    "# numpy.binary_repr(num, width=None)\n",
    "# Return the binary representation of the input number as a string.\n",
    "\n",
    "np.binary_repr(3)"
   ]
  },
  {
   "cell_type": "code",
   "execution_count": 133,
   "metadata": {},
   "outputs": [
    {
     "data": {
      "text/plain": [
       "'-11'"
      ]
     },
     "execution_count": 133,
     "metadata": {},
     "output_type": "execute_result"
    }
   ],
   "source": [
    "np.binary_repr(-3)"
   ]
  },
  {
   "cell_type": "code",
   "execution_count": 134,
   "metadata": {},
   "outputs": [
    {
     "data": {
      "text/plain": [
       "'0011'"
      ]
     },
     "execution_count": 134,
     "metadata": {},
     "output_type": "execute_result"
    }
   ],
   "source": [
    "np.binary_repr(3, width=4)"
   ]
  },
  {
   "cell_type": "markdown",
   "metadata": {},
   "source": [
    "\n",
    "2. Crear un ejemplo de cómo guardar y cargar arreglos de un archivo binario `.npy` y `.npz`:\n",
    "\n",
    "    - [NumPy binary files (NPY, NPZ)](https://numpy.org/devdocs/reference/routines.io.html#numpy-binary-files-npy-npz)\n",
    "    "
   ]
  },
  {
   "cell_type": "markdown",
   "metadata": {},
   "source": [
    "#### Ejemplo de Npy"
   ]
  },
  {
   "cell_type": "code",
   "execution_count": 135,
   "metadata": {},
   "outputs": [],
   "source": [
    "# numpy.save\n",
    "# numpy.save(file, arr, allow_pickle=True, fix_imports=True)\n",
    "# Save an array to a binary file in NumPy .npy format.\n",
    "\n",
    "# Ejemplo para escritura, varios objetos\n",
    "with open('elmer_lemus.npy', 'wb') as f:\n",
    "    np.save(f, np.array([1, 8]))\n",
    "    np.save(f, np.array([3, 3]))"
   ]
  },
  {
   "cell_type": "code",
   "execution_count": 136,
   "metadata": {},
   "outputs": [
    {
     "name": "stdout",
     "output_type": "stream",
     "text": [
      "[1 8] [3 3]\n"
     ]
    }
   ],
   "source": [
    "# Ejemplo para lectura\n",
    "with open('elmer_lemus.npy', 'rb') as f:\n",
    "    a = np.load(f)\n",
    "    b = np.load(f)\n",
    "print(a, b)"
   ]
  },
  {
   "cell_type": "code",
   "execution_count": 137,
   "metadata": {},
   "outputs": [],
   "source": [
    "# numpy.load\n",
    "# numpy.load(file, mmap_mode=None, allow_pickle=False, \n",
    "# fix_imports=True, encoding='ASCII')\n",
    "# Load arrays or pickled objects from .npy, .npz or pickled files.\n",
    "\n",
    "x = np.array([[1, 2, 3, 4, 5, 6, 7], [8, 9, 10, 11, 12, 13, 14]])\n",
    "\n",
    "np.save('elmer_lemus.npy', x)"
   ]
  },
  {
   "cell_type": "code",
   "execution_count": 138,
   "metadata": {},
   "outputs": [
    {
     "data": {
      "text/plain": [
       "array([[ 1,  2,  3,  4,  5,  6,  7],\n",
       "       [ 8,  9, 10, 11, 12, 13, 14]])"
      ]
     },
     "execution_count": 138,
     "metadata": {},
     "output_type": "execute_result"
    }
   ],
   "source": [
    "# Carga de archivos Npy\n",
    "np.load('elmer_lemus.npy')"
   ]
  },
  {
   "cell_type": "markdown",
   "metadata": {},
   "source": [
    "#### Ejemplo Npz"
   ]
  },
  {
   "cell_type": "code",
   "execution_count": 139,
   "metadata": {},
   "outputs": [],
   "source": [
    "# Guardar documentos en Npz, como diccionarios\n",
    "\n",
    "a = [1, 2, 3, 4, 5, 6, 7]\n",
    "b = [8, 9, 10, 11, 12, 13, 14]\n",
    "\n",
    "# Guardar\n",
    "np.savez('elmer_lemus.npz', a = a, b = b, x = x)"
   ]
  },
  {
   "cell_type": "code",
   "execution_count": 140,
   "metadata": {},
   "outputs": [
    {
     "data": {
      "text/plain": [
       "array([[ 1,  2,  3,  4,  5,  6,  7],\n",
       "       [ 8,  9, 10, 11, 12, 13, 14]])"
      ]
     },
     "execution_count": 140,
     "metadata": {},
     "output_type": "execute_result"
    }
   ],
   "source": [
    "# Cargar\n",
    "z = np.load('elmer_lemus.npz')\n",
    "z[\"x\"]"
   ]
  },
  {
   "cell_type": "markdown",
   "metadata": {},
   "source": [
    "3. Crear un ejemplo de cómo guardar y cargar arreglos de un archivo de texto `.txt`:\n",
    "\n",
    "    - [NumPy Text files](https://numpy.org/devdocs/reference/routines.io.html#text-files)    \n",
    "    "
   ]
  },
  {
   "cell_type": "markdown",
   "metadata": {},
   "source": [
    "#### Guardar documentos en txt"
   ]
  },
  {
   "cell_type": "code",
   "execution_count": 141,
   "metadata": {},
   "outputs": [],
   "source": [
    "# Para Guardar\n",
    "# numpy.savetxt\n",
    "# numpy.savetxt(fname, X, fmt='%.18e', delimiter=' ', newline='n', header='', \n",
    "# footer='', comments='# ', encoding=None)\n",
    "# Save an array to a text file.\n",
    "\n",
    "# Genera array para las variables\n",
    "a = np.arange(1,15,3)\n",
    "b = np.random.random((5,5))\n",
    "np.savetxt('elmer_lemus', b, delimiter=',')"
   ]
  },
  {
   "cell_type": "markdown",
   "metadata": {},
   "source": [
    "#### Cargar  documentos en txt "
   ]
  },
  {
   "cell_type": "code",
   "execution_count": 142,
   "metadata": {},
   "outputs": [
    {
     "data": {
      "text/plain": [
       "array([[0.50889365, 0.76500891, 0.28625876, 0.87839051, 0.6947297 ],\n",
       "       [0.5161112 , 0.35381102, 0.08227133, 0.42796017, 0.85738407],\n",
       "       [0.16952571, 0.89618782, 0.25064868, 0.586112  , 0.03376445],\n",
       "       [0.88035136, 0.09726895, 0.99777774, 0.44037068, 0.28724092],\n",
       "       [0.81691323, 0.41296088, 0.22636114, 0.61887147, 0.86334617]])"
      ]
     },
     "execution_count": 142,
     "metadata": {},
     "output_type": "execute_result"
    }
   ],
   "source": [
    "# numpy.loadtxt\n",
    "# numpy.loadtxt(fname, dtype=<class 'float'>, comments='#', delimiter=None, \n",
    "# converters=None, skiprows=0, usecols=None, unpack=False, ndmin=0, encoding='bytes', max_rows=None)\n",
    "# Load data from a text file.\n",
    "\n",
    "# Cargar los valores en txt, de todas las variables\n",
    "np.loadtxt('elmer_lemus', delimiter=',')"
   ]
  },
  {
   "cell_type": "markdown",
   "metadata": {},
   "source": [
    "4. Crear una función llamada `estimacionMCO` que lea un archivo CSV con 7 columnas, que corresponden a las variables $(x_{1i}, \\ldots, x_{6i})$ y $y_i$. \n",
    "    - La función debe computar matricialmente los parámetros del modelo de regresión lineal: $y = X\\beta$. \n",
    "    - Estos parámetros deben ser devueltos como un arreglo de NumPy. \n",
    "\n",
    "    - Utilice la función de lectura de archivos de NumPy."
   ]
  },
  {
   "cell_type": "code",
   "execution_count": 143,
   "metadata": {},
   "outputs": [],
   "source": [
    "# Extrae los datos\n",
    "\n",
    "def estimacionMCO(datos):\n",
    "    \n",
    "    # Utilizamos la función de lectura \"np.genfromtxt\"\n",
    "    matrix = np.genfromtxt(datos, delimiter=',', dtype=int, skip_header=1)\n",
    "    return matrix"
   ]
  },
  {
   "cell_type": "code",
   "execution_count": 144,
   "metadata": {},
   "outputs": [],
   "source": [
    "# Extrae los datos\n",
    "data = estimacionMCO(\"estimacion_mco.csv\")"
   ]
  },
  {
   "cell_type": "code",
   "execution_count": 145,
   "metadata": {},
   "outputs": [
    {
     "data": {
      "text/plain": [
       "array([[200, 172,  50, ..., 163, 166, 151],\n",
       "       [ 18,  67,  23, ..., 135,  46,  87],\n",
       "       [118,  84,  78, ..., 125, 196,  50],\n",
       "       ...,\n",
       "       [127, 195,  86, ..., 124, 122,  55],\n",
       "       [108, 102,  46, ...,  53,  52,  48],\n",
       "       [ 82,  43, 198, ..., 198, 125, 197]])"
      ]
     },
     "execution_count": 145,
     "metadata": {},
     "output_type": "execute_result"
    }
   ],
   "source": [
    "# Todos los datos\n",
    "data"
   ]
  },
  {
   "cell_type": "code",
   "execution_count": 146,
   "metadata": {},
   "outputs": [
    {
     "data": {
      "text/plain": [
       "array([[200, 172,  50,  81, 163, 166],\n",
       "       [ 18,  67,  23, 197, 135,  46],\n",
       "       [118,  84,  78,  99, 125, 196],\n",
       "       ...,\n",
       "       [127, 195,  86,  71, 124, 122],\n",
       "       [108, 102,  46,  24,  53,  52],\n",
       "       [ 82,  43, 198, 168, 198, 125]])"
      ]
     },
     "execution_count": 146,
     "metadata": {},
     "output_type": "execute_result"
    }
   ],
   "source": [
    "# Variables independientes\n",
    "x = data[:,:6]\n",
    "x"
   ]
  },
  {
   "cell_type": "code",
   "execution_count": 147,
   "metadata": {},
   "outputs": [
    {
     "data": {
      "text/plain": [
       "array([[151],\n",
       "       [ 87],\n",
       "       [ 50],\n",
       "       [ 69],\n",
       "       [157],\n",
       "       [176],\n",
       "       [163],\n",
       "       [113],\n",
       "       [150],\n",
       "       [152],\n",
       "       [ 43],\n",
       "       [155],\n",
       "       [ 78],\n",
       "       [ 32],\n",
       "       [ 11],\n",
       "       [167],\n",
       "       [168],\n",
       "       [105],\n",
       "       [ 63],\n",
       "       [117],\n",
       "       [ 49],\n",
       "       [ 98],\n",
       "       [142],\n",
       "       [ 29],\n",
       "       [ 58],\n",
       "       [101],\n",
       "       [ 59],\n",
       "       [ 27],\n",
       "       [186],\n",
       "       [ 79],\n",
       "       [168],\n",
       "       [179],\n",
       "       [122],\n",
       "       [ 13],\n",
       "       [112],\n",
       "       [ 94],\n",
       "       [123],\n",
       "       [ 82],\n",
       "       [168],\n",
       "       [ 70],\n",
       "       [ 22],\n",
       "       [ 69],\n",
       "       [176],\n",
       "       [142],\n",
       "       [147],\n",
       "       [ 94],\n",
       "       [102],\n",
       "       [ 77],\n",
       "       [ 83],\n",
       "       [154],\n",
       "       [ 96],\n",
       "       [ 73],\n",
       "       [118],\n",
       "       [163],\n",
       "       [169],\n",
       "       [140],\n",
       "       [ 49],\n",
       "       [164],\n",
       "       [ 13],\n",
       "       [ 51],\n",
       "       [ 73],\n",
       "       [ 30],\n",
       "       [ 31],\n",
       "       [109],\n",
       "       [132],\n",
       "       [ 16],\n",
       "       [ 30],\n",
       "       [189],\n",
       "       [ 74],\n",
       "       [ 93],\n",
       "       [ 66],\n",
       "       [186],\n",
       "       [138],\n",
       "       [ 78],\n",
       "       [ 70],\n",
       "       [ 51],\n",
       "       [ 61],\n",
       "       [ 56],\n",
       "       [ 56],\n",
       "       [106],\n",
       "       [114],\n",
       "       [109],\n",
       "       [ 67],\n",
       "       [187],\n",
       "       [ 92],\n",
       "       [100],\n",
       "       [148],\n",
       "       [ 52],\n",
       "       [169],\n",
       "       [116],\n",
       "       [197],\n",
       "       [ 17],\n",
       "       [181],\n",
       "       [170],\n",
       "       [166],\n",
       "       [ 88],\n",
       "       [ 44],\n",
       "       [172],\n",
       "       [ 55],\n",
       "       [160],\n",
       "       [166],\n",
       "       [104],\n",
       "       [104],\n",
       "       [105],\n",
       "       [ 52],\n",
       "       [ 38],\n",
       "       [110],\n",
       "       [134],\n",
       "       [ 43],\n",
       "       [ 99],\n",
       "       [ 92],\n",
       "       [ 38],\n",
       "       [190],\n",
       "       [ 55],\n",
       "       [142],\n",
       "       [ 19],\n",
       "       [ 22],\n",
       "       [ 98],\n",
       "       [139],\n",
       "       [171],\n",
       "       [181],\n",
       "       [ 13],\n",
       "       [ 96],\n",
       "       [ 36],\n",
       "       [146],\n",
       "       [111],\n",
       "       [ 57],\n",
       "       [135],\n",
       "       [ 61],\n",
       "       [193],\n",
       "       [130],\n",
       "       [161],\n",
       "       [192],\n",
       "       [ 60],\n",
       "       [102],\n",
       "       [191],\n",
       "       [158],\n",
       "       [104],\n",
       "       [169],\n",
       "       [149],\n",
       "       [163],\n",
       "       [ 61],\n",
       "       [183],\n",
       "       [157],\n",
       "       [ 70],\n",
       "       [ 49],\n",
       "       [181],\n",
       "       [ 44],\n",
       "       [ 69],\n",
       "       [ 16],\n",
       "       [179],\n",
       "       [197],\n",
       "       [157],\n",
       "       [114],\n",
       "       [193],\n",
       "       [ 71],\n",
       "       [163],\n",
       "       [ 33],\n",
       "       [ 59],\n",
       "       [145],\n",
       "       [183],\n",
       "       [183],\n",
       "       [ 43],\n",
       "       [ 33],\n",
       "       [200],\n",
       "       [ 86],\n",
       "       [116],\n",
       "       [ 43],\n",
       "       [ 77],\n",
       "       [141],\n",
       "       [ 10],\n",
       "       [ 33],\n",
       "       [ 65],\n",
       "       [119],\n",
       "       [ 99],\n",
       "       [ 55],\n",
       "       [134],\n",
       "       [151],\n",
       "       [ 18],\n",
       "       [ 28],\n",
       "       [119],\n",
       "       [ 61],\n",
       "       [197],\n",
       "       [121],\n",
       "       [131],\n",
       "       [106],\n",
       "       [ 74],\n",
       "       [117],\n",
       "       [ 76],\n",
       "       [ 94],\n",
       "       [125],\n",
       "       [136],\n",
       "       [150],\n",
       "       [115],\n",
       "       [ 38],\n",
       "       [128],\n",
       "       [ 42],\n",
       "       [ 55],\n",
       "       [ 48],\n",
       "       [197]])"
      ]
     },
     "execution_count": 147,
     "metadata": {},
     "output_type": "execute_result"
    }
   ],
   "source": [
    "# Variables dependientes\n",
    "y = data[:,6:7]\n",
    "y"
   ]
  },
  {
   "cell_type": "code",
   "execution_count": 148,
   "metadata": {
    "scrolled": true
   },
   "outputs": [
    {
     "data": {
      "text/plain": [
       "array([[ 0.26788365],\n",
       "       [ 0.15318317],\n",
       "       [ 0.11887418],\n",
       "       [ 0.15614557],\n",
       "       [ 0.24163836],\n",
       "       [-0.00525159]])"
      ]
     },
     "execution_count": 148,
     "metadata": {},
     "output_type": "execute_result"
    }
   ],
   "source": [
    "# Operación 1\n",
    "xTransx = x.T@x\n",
    "\n",
    "# Operación 2\n",
    "inver = np.linalg.inv(xTransx)\n",
    "\n",
    "# Operación 3\n",
    "xTPorY = x.T@y\n",
    "\n",
    "# Operaci+on final\n",
    "betas = inver @ xTPorY\n",
    "\n",
    "# La estimación de los parámetros es:\n",
    "betas"
   ]
  }
 ],
 "metadata": {
  "kernelspec": {
   "display_name": "Python 3",
   "language": "python",
   "name": "python3"
  },
  "language_info": {
   "codemirror_mode": {
    "name": "ipython",
    "version": 3
   },
   "file_extension": ".py",
   "mimetype": "text/x-python",
   "name": "python",
   "nbconvert_exporter": "python",
   "pygments_lexer": "ipython3",
   "version": "3.7.4"
  }
 },
 "nbformat": 4,
 "nbformat_minor": 2
}
